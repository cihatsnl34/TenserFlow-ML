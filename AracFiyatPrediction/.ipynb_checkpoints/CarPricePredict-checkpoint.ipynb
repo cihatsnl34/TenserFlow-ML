{
 "cells": [
  {
   "cell_type": "code",
   "execution_count": 1,
   "id": "1b80343d",
   "metadata": {},
   "outputs": [],
   "source": [
    "import pandas as pd\n",
    "import numpy as np\n",
    "import matplotlib.pyplot as plt\n",
    "import seaborn as sbn"
   ]
  },
  {
   "cell_type": "code",
   "execution_count": 2,
   "id": "3c7cff32",
   "metadata": {},
   "outputs": [],
   "source": [
    "df = pd.read_excel(\"merc.xlsx\")"
   ]
  },
  {
   "cell_type": "code",
   "execution_count": 3,
   "id": "793c5844",
   "metadata": {},
   "outputs": [
    {
     "data": {
      "text/html": [
       "<div>\n",
       "<style scoped>\n",
       "    .dataframe tbody tr th:only-of-type {\n",
       "        vertical-align: middle;\n",
       "    }\n",
       "\n",
       "    .dataframe tbody tr th {\n",
       "        vertical-align: top;\n",
       "    }\n",
       "\n",
       "    .dataframe thead th {\n",
       "        text-align: right;\n",
       "    }\n",
       "</style>\n",
       "<table border=\"1\" class=\"dataframe\">\n",
       "  <thead>\n",
       "    <tr style=\"text-align: right;\">\n",
       "      <th></th>\n",
       "      <th>year</th>\n",
       "      <th>price</th>\n",
       "      <th>transmission</th>\n",
       "      <th>mileage</th>\n",
       "      <th>tax</th>\n",
       "      <th>mpg</th>\n",
       "      <th>engineSize</th>\n",
       "    </tr>\n",
       "  </thead>\n",
       "  <tbody>\n",
       "    <tr>\n",
       "      <th>0</th>\n",
       "      <td>2005</td>\n",
       "      <td>5200</td>\n",
       "      <td>Automatic</td>\n",
       "      <td>63000</td>\n",
       "      <td>325</td>\n",
       "      <td>32.1</td>\n",
       "      <td>1.8</td>\n",
       "    </tr>\n",
       "    <tr>\n",
       "      <th>1</th>\n",
       "      <td>2017</td>\n",
       "      <td>34948</td>\n",
       "      <td>Automatic</td>\n",
       "      <td>27000</td>\n",
       "      <td>20</td>\n",
       "      <td>61.4</td>\n",
       "      <td>2.1</td>\n",
       "    </tr>\n",
       "    <tr>\n",
       "      <th>2</th>\n",
       "      <td>2016</td>\n",
       "      <td>49948</td>\n",
       "      <td>Automatic</td>\n",
       "      <td>6200</td>\n",
       "      <td>555</td>\n",
       "      <td>28.0</td>\n",
       "      <td>5.5</td>\n",
       "    </tr>\n",
       "    <tr>\n",
       "      <th>3</th>\n",
       "      <td>2016</td>\n",
       "      <td>61948</td>\n",
       "      <td>Automatic</td>\n",
       "      <td>16000</td>\n",
       "      <td>325</td>\n",
       "      <td>30.4</td>\n",
       "      <td>4.0</td>\n",
       "    </tr>\n",
       "    <tr>\n",
       "      <th>4</th>\n",
       "      <td>2016</td>\n",
       "      <td>73948</td>\n",
       "      <td>Automatic</td>\n",
       "      <td>4000</td>\n",
       "      <td>325</td>\n",
       "      <td>30.1</td>\n",
       "      <td>4.0</td>\n",
       "    </tr>\n",
       "  </tbody>\n",
       "</table>\n",
       "</div>"
      ],
      "text/plain": [
       "   year  price transmission  mileage  tax   mpg  engineSize\n",
       "0  2005   5200    Automatic    63000  325  32.1         1.8\n",
       "1  2017  34948    Automatic    27000   20  61.4         2.1\n",
       "2  2016  49948    Automatic     6200  555  28.0         5.5\n",
       "3  2016  61948    Automatic    16000  325  30.4         4.0\n",
       "4  2016  73948    Automatic     4000  325  30.1         4.0"
      ]
     },
     "execution_count": 3,
     "metadata": {},
     "output_type": "execute_result"
    }
   ],
   "source": [
    "df.head()"
   ]
  },
  {
   "cell_type": "code",
   "execution_count": 4,
   "id": "e4416d82",
   "metadata": {},
   "outputs": [
    {
     "name": "stdout",
     "output_type": "stream",
     "text": [
      "<class 'pandas.core.frame.DataFrame'>\n",
      "RangeIndex: 13119 entries, 0 to 13118\n",
      "Data columns (total 7 columns):\n",
      " #   Column        Non-Null Count  Dtype  \n",
      "---  ------        --------------  -----  \n",
      " 0   year          13119 non-null  int64  \n",
      " 1   price         13119 non-null  int64  \n",
      " 2   transmission  13119 non-null  object \n",
      " 3   mileage       13119 non-null  int64  \n",
      " 4   tax           13119 non-null  int64  \n",
      " 5   mpg           13119 non-null  float64\n",
      " 6   engineSize    13119 non-null  float64\n",
      "dtypes: float64(2), int64(4), object(1)\n",
      "memory usage: 717.6+ KB\n"
     ]
    }
   ],
   "source": [
    "df.info()"
   ]
  },
  {
   "cell_type": "code",
   "execution_count": 5,
   "id": "d90ae2fb",
   "metadata": {},
   "outputs": [
    {
     "data": {
      "text/html": [
       "<div>\n",
       "<style scoped>\n",
       "    .dataframe tbody tr th:only-of-type {\n",
       "        vertical-align: middle;\n",
       "    }\n",
       "\n",
       "    .dataframe tbody tr th {\n",
       "        vertical-align: top;\n",
       "    }\n",
       "\n",
       "    .dataframe thead th {\n",
       "        text-align: right;\n",
       "    }\n",
       "</style>\n",
       "<table border=\"1\" class=\"dataframe\">\n",
       "  <thead>\n",
       "    <tr style=\"text-align: right;\">\n",
       "      <th></th>\n",
       "      <th>year</th>\n",
       "      <th>price</th>\n",
       "      <th>mileage</th>\n",
       "      <th>tax</th>\n",
       "      <th>mpg</th>\n",
       "      <th>engineSize</th>\n",
       "    </tr>\n",
       "  </thead>\n",
       "  <tbody>\n",
       "    <tr>\n",
       "      <th>count</th>\n",
       "      <td>13119.000000</td>\n",
       "      <td>13119.000000</td>\n",
       "      <td>13119.000000</td>\n",
       "      <td>13119.000000</td>\n",
       "      <td>13119.000000</td>\n",
       "      <td>13119.000000</td>\n",
       "    </tr>\n",
       "    <tr>\n",
       "      <th>mean</th>\n",
       "      <td>2017.296288</td>\n",
       "      <td>24698.596920</td>\n",
       "      <td>21949.559037</td>\n",
       "      <td>129.972178</td>\n",
       "      <td>55.155843</td>\n",
       "      <td>2.071530</td>\n",
       "    </tr>\n",
       "    <tr>\n",
       "      <th>std</th>\n",
       "      <td>2.224709</td>\n",
       "      <td>11842.675542</td>\n",
       "      <td>21176.512267</td>\n",
       "      <td>65.260286</td>\n",
       "      <td>15.220082</td>\n",
       "      <td>0.572426</td>\n",
       "    </tr>\n",
       "    <tr>\n",
       "      <th>min</th>\n",
       "      <td>1970.000000</td>\n",
       "      <td>650.000000</td>\n",
       "      <td>1.000000</td>\n",
       "      <td>0.000000</td>\n",
       "      <td>1.100000</td>\n",
       "      <td>0.000000</td>\n",
       "    </tr>\n",
       "    <tr>\n",
       "      <th>25%</th>\n",
       "      <td>2016.000000</td>\n",
       "      <td>17450.000000</td>\n",
       "      <td>6097.500000</td>\n",
       "      <td>125.000000</td>\n",
       "      <td>45.600000</td>\n",
       "      <td>1.800000</td>\n",
       "    </tr>\n",
       "    <tr>\n",
       "      <th>50%</th>\n",
       "      <td>2018.000000</td>\n",
       "      <td>22480.000000</td>\n",
       "      <td>15189.000000</td>\n",
       "      <td>145.000000</td>\n",
       "      <td>56.500000</td>\n",
       "      <td>2.000000</td>\n",
       "    </tr>\n",
       "    <tr>\n",
       "      <th>75%</th>\n",
       "      <td>2019.000000</td>\n",
       "      <td>28980.000000</td>\n",
       "      <td>31779.500000</td>\n",
       "      <td>145.000000</td>\n",
       "      <td>64.200000</td>\n",
       "      <td>2.100000</td>\n",
       "    </tr>\n",
       "    <tr>\n",
       "      <th>max</th>\n",
       "      <td>2020.000000</td>\n",
       "      <td>159999.000000</td>\n",
       "      <td>259000.000000</td>\n",
       "      <td>580.000000</td>\n",
       "      <td>217.300000</td>\n",
       "      <td>6.200000</td>\n",
       "    </tr>\n",
       "  </tbody>\n",
       "</table>\n",
       "</div>"
      ],
      "text/plain": [
       "               year          price        mileage           tax           mpg  \\\n",
       "count  13119.000000   13119.000000   13119.000000  13119.000000  13119.000000   \n",
       "mean    2017.296288   24698.596920   21949.559037    129.972178     55.155843   \n",
       "std        2.224709   11842.675542   21176.512267     65.260286     15.220082   \n",
       "min     1970.000000     650.000000       1.000000      0.000000      1.100000   \n",
       "25%     2016.000000   17450.000000    6097.500000    125.000000     45.600000   \n",
       "50%     2018.000000   22480.000000   15189.000000    145.000000     56.500000   \n",
       "75%     2019.000000   28980.000000   31779.500000    145.000000     64.200000   \n",
       "max     2020.000000  159999.000000  259000.000000    580.000000    217.300000   \n",
       "\n",
       "         engineSize  \n",
       "count  13119.000000  \n",
       "mean       2.071530  \n",
       "std        0.572426  \n",
       "min        0.000000  \n",
       "25%        1.800000  \n",
       "50%        2.000000  \n",
       "75%        2.100000  \n",
       "max        6.200000  "
      ]
     },
     "execution_count": 5,
     "metadata": {},
     "output_type": "execute_result"
    }
   ],
   "source": [
    "df.describe()"
   ]
  },
  {
   "cell_type": "code",
   "execution_count": 6,
   "id": "441e9028",
   "metadata": {},
   "outputs": [
    {
     "data": {
      "text/plain": [
       "year            0\n",
       "price           0\n",
       "transmission    0\n",
       "mileage         0\n",
       "tax             0\n",
       "mpg             0\n",
       "engineSize      0\n",
       "dtype: int64"
      ]
     },
     "execution_count": 6,
     "metadata": {},
     "output_type": "execute_result"
    }
   ],
   "source": [
    "df.isnull().sum()"
   ]
  },
  {
   "cell_type": "markdown",
   "id": "265249ff",
   "metadata": {},
   "source": [
    "## Price dağılımını gösteriyor"
   ]
  },
  {
   "cell_type": "code",
   "execution_count": 7,
   "id": "65a1f3c4",
   "metadata": {
    "hide_input": false
   },
   "outputs": [
    {
     "name": "stderr",
     "output_type": "stream",
     "text": [
      "C:\\Users\\cihat\\anaconda3\\lib\\site-packages\\seaborn\\distributions.py:2557: FutureWarning: `distplot` is a deprecated function and will be removed in a future version. Please adapt your code to use either `displot` (a figure-level function with similar flexibility) or `histplot` (an axes-level function for histograms).\n",
      "  warnings.warn(msg, FutureWarning)\n"
     ]
    },
    {
     "data": {
      "text/plain": [
       "<AxesSubplot:xlabel='price', ylabel='Density'>"
      ]
     },
     "execution_count": 7,
     "metadata": {},
     "output_type": "execute_result"
    },
    {
     "data": {
      "image/png": "[encoded data removed]",
      "text/plain": [
       "<Figure size 504x360 with 1 Axes>"
      ]
     },
     "metadata": {
      "needs_background": "light"
     },
     "output_type": "display_data"
    }
   ],
   "source": [
    "\n",
    "plt.figure(figsize=(7,5))\n",
    "sbn.distplot(df[\"price\"])"
   ]
  },
  {
   "cell_type": "markdown",
   "id": "235ada6b",
   "metadata": {},
   "source": [
    "## Kaç tane olduğunu gösterme"
   ]
  },
  {
   "cell_type": "code",
   "execution_count": 8,
   "id": "7ab6d24a",
   "metadata": {},
   "outputs": [
    {
     "name": "stderr",
     "output_type": "stream",
     "text": [
      "C:\\Users\\cihat\\anaconda3\\lib\\site-packages\\seaborn\\_decorators.py:36: FutureWarning: Pass the following variable as a keyword arg: x. From version 0.12, the only valid positional argument will be `data`, and passing other arguments without an explicit keyword will result in an error or misinterpretation.\n",
      "  warnings.warn(\n"
     ]
    },
    {
     "data": {
      "text/plain": [
       "<AxesSubplot:xlabel='year', ylabel='count'>"
      ]
     },
     "execution_count": 8,
     "metadata": {},
     "output_type": "execute_result"
    },
    {
     "data": {
      "image/png": "[encoded data removed]",
      "text/plain": [
       "<Figure size 720x360 with 1 Axes>"
      ]
     },
     "metadata": {
      "needs_background": "light"
     },
     "output_type": "display_data"
    }
   ],
   "source": [
    "plt.figure(figsize=(10,5))\n",
    "sbn.countplot(df[\"year\"])"
   ]
  },
  {
   "cell_type": "markdown",
   "id": "17d10eb3",
   "metadata": {},
   "source": [
    "## Birbirleri arasında ilişki gösterme"
   ]
  },
  {
   "cell_type": "code",
   "execution_count": 9,
   "id": "1d571680",
   "metadata": {},
   "outputs": [
    {
     "data": {
      "text/html": [
       "<div>\n",
       "<style scoped>\n",
       "    .dataframe tbody tr th:only-of-type {\n",
       "        vertical-align: middle;\n",
       "    }\n",
       "\n",
       "    .dataframe tbody tr th {\n",
       "        vertical-align: top;\n",
       "    }\n",
       "\n",
       "    .dataframe thead th {\n",
       "        text-align: right;\n",
       "    }\n",
       "</style>\n",
       "<table border=\"1\" class=\"dataframe\">\n",
       "  <thead>\n",
       "    <tr style=\"text-align: right;\">\n",
       "      <th></th>\n",
       "      <th>year</th>\n",
       "      <th>price</th>\n",
       "      <th>mileage</th>\n",
       "      <th>tax</th>\n",
       "      <th>mpg</th>\n",
       "      <th>engineSize</th>\n",
       "    </tr>\n",
       "  </thead>\n",
       "  <tbody>\n",
       "    <tr>\n",
       "      <th>year</th>\n",
       "      <td>1.000000</td>\n",
       "      <td>0.520712</td>\n",
       "      <td>-0.738027</td>\n",
       "      <td>0.012480</td>\n",
       "      <td>-0.094626</td>\n",
       "      <td>-0.142147</td>\n",
       "    </tr>\n",
       "    <tr>\n",
       "      <th>price</th>\n",
       "      <td>0.520712</td>\n",
       "      <td>1.000000</td>\n",
       "      <td>-0.537214</td>\n",
       "      <td>0.268717</td>\n",
       "      <td>-0.438445</td>\n",
       "      <td>0.516126</td>\n",
       "    </tr>\n",
       "    <tr>\n",
       "      <th>mileage</th>\n",
       "      <td>-0.738027</td>\n",
       "      <td>-0.537214</td>\n",
       "      <td>1.000000</td>\n",
       "      <td>-0.160223</td>\n",
       "      <td>0.202850</td>\n",
       "      <td>0.063652</td>\n",
       "    </tr>\n",
       "    <tr>\n",
       "      <th>tax</th>\n",
       "      <td>0.012480</td>\n",
       "      <td>0.268717</td>\n",
       "      <td>-0.160223</td>\n",
       "      <td>1.000000</td>\n",
       "      <td>-0.513742</td>\n",
       "      <td>0.338341</td>\n",
       "    </tr>\n",
       "    <tr>\n",
       "      <th>mpg</th>\n",
       "      <td>-0.094626</td>\n",
       "      <td>-0.438445</td>\n",
       "      <td>0.202850</td>\n",
       "      <td>-0.513742</td>\n",
       "      <td>1.000000</td>\n",
       "      <td>-0.339862</td>\n",
       "    </tr>\n",
       "    <tr>\n",
       "      <th>engineSize</th>\n",
       "      <td>-0.142147</td>\n",
       "      <td>0.516126</td>\n",
       "      <td>0.063652</td>\n",
       "      <td>0.338341</td>\n",
       "      <td>-0.339862</td>\n",
       "      <td>1.000000</td>\n",
       "    </tr>\n",
       "  </tbody>\n",
       "</table>\n",
       "</div>"
      ],
      "text/plain": [
       "                year     price   mileage       tax       mpg  engineSize\n",
       "year        1.000000  0.520712 -0.738027  0.012480 -0.094626   -0.142147\n",
       "price       0.520712  1.000000 -0.537214  0.268717 -0.438445    0.516126\n",
       "mileage    -0.738027 -0.537214  1.000000 -0.160223  0.202850    0.063652\n",
       "tax         0.012480  0.268717 -0.160223  1.000000 -0.513742    0.338341\n",
       "mpg        -0.094626 -0.438445  0.202850 -0.513742  1.000000   -0.339862\n",
       "engineSize -0.142147  0.516126  0.063652  0.338341 -0.339862    1.000000"
      ]
     },
     "execution_count": 9,
     "metadata": {},
     "output_type": "execute_result"
    }
   ],
   "source": [
    "df.corr()"
   ]
  },
  {
   "cell_type": "markdown",
   "id": "9ee10385",
   "metadata": {},
   "source": [
    "## Fiyatı ne kadar etkiliyor negatif etkilemesi modeli kötü etkiliyor"
   ]
  },
  {
   "cell_type": "code",
   "execution_count": 10,
   "id": "99f0639c",
   "metadata": {},
   "outputs": [
    {
     "data": {
      "text/plain": [
       "mileage      -0.537214\n",
       "mpg          -0.438445\n",
       "tax           0.268717\n",
       "engineSize    0.516126\n",
       "year          0.520712\n",
       "price         1.000000\n",
       "Name: price, dtype: float64"
      ]
     },
     "execution_count": 10,
     "metadata": {},
     "output_type": "execute_result"
    }
   ],
   "source": [
    "df.corr()[\"price\"].sort_values()"
   ]
  },
  {
   "cell_type": "code",
   "execution_count": 11,
   "id": "ae8401d3",
   "metadata": {
    "scrolled": true
   },
   "outputs": [
    {
     "data": {
      "text/plain": [
       "<AxesSubplot:xlabel='mileage', ylabel='price'>"
      ]
     },
     "execution_count": 11,
     "metadata": {},
     "output_type": "execute_result"
    },
    {
     "data": {
      "image/png": "[encoded data removed]",
      "text/plain": [
       "<Figure size 432x288 with 1 Axes>"
      ]
     },
     "metadata": {
      "needs_background": "light"
     },
     "output_type": "display_data"
    }
   ],
   "source": [
    "sbn.scatterplot(x = \"mileage\", y = \"price\", data = df)"
   ]
  },
  {
   "cell_type": "code",
   "execution_count": 12,
   "id": "be4b1eb5",
   "metadata": {
    "scrolled": true
   },
   "outputs": [
    {
     "data": {
      "text/html": [
       "<div>\n",
       "<style scoped>\n",
       "    .dataframe tbody tr th:only-of-type {\n",
       "        vertical-align: middle;\n",
       "    }\n",
       "\n",
       "    .dataframe tbody tr th {\n",
       "        vertical-align: top;\n",
       "    }\n",
       "\n",
       "    .dataframe thead th {\n",
       "        text-align: right;\n",
       "    }\n",
       "</style>\n",
       "<table border=\"1\" class=\"dataframe\">\n",
       "  <thead>\n",
       "    <tr style=\"text-align: right;\">\n",
       "      <th></th>\n",
       "      <th>year</th>\n",
       "      <th>price</th>\n",
       "      <th>transmission</th>\n",
       "      <th>mileage</th>\n",
       "      <th>tax</th>\n",
       "      <th>mpg</th>\n",
       "      <th>engineSize</th>\n",
       "    </tr>\n",
       "  </thead>\n",
       "  <tbody>\n",
       "    <tr>\n",
       "      <th>6199</th>\n",
       "      <td>2020</td>\n",
       "      <td>159999</td>\n",
       "      <td>Semi-Auto</td>\n",
       "      <td>1350</td>\n",
       "      <td>145</td>\n",
       "      <td>21.4</td>\n",
       "      <td>4.0</td>\n",
       "    </tr>\n",
       "    <tr>\n",
       "      <th>10044</th>\n",
       "      <td>2020</td>\n",
       "      <td>154998</td>\n",
       "      <td>Automatic</td>\n",
       "      <td>3000</td>\n",
       "      <td>150</td>\n",
       "      <td>21.4</td>\n",
       "      <td>4.0</td>\n",
       "    </tr>\n",
       "    <tr>\n",
       "      <th>5</th>\n",
       "      <td>2011</td>\n",
       "      <td>149948</td>\n",
       "      <td>Automatic</td>\n",
       "      <td>3000</td>\n",
       "      <td>570</td>\n",
       "      <td>21.4</td>\n",
       "      <td>6.2</td>\n",
       "    </tr>\n",
       "    <tr>\n",
       "      <th>8737</th>\n",
       "      <td>2019</td>\n",
       "      <td>140319</td>\n",
       "      <td>Semi-Auto</td>\n",
       "      <td>785</td>\n",
       "      <td>150</td>\n",
       "      <td>22.1</td>\n",
       "      <td>4.0</td>\n",
       "    </tr>\n",
       "    <tr>\n",
       "      <th>6386</th>\n",
       "      <td>2018</td>\n",
       "      <td>139995</td>\n",
       "      <td>Semi-Auto</td>\n",
       "      <td>13046</td>\n",
       "      <td>145</td>\n",
       "      <td>21.4</td>\n",
       "      <td>4.0</td>\n",
       "    </tr>\n",
       "    <tr>\n",
       "      <th>8</th>\n",
       "      <td>2019</td>\n",
       "      <td>139948</td>\n",
       "      <td>Automatic</td>\n",
       "      <td>12000</td>\n",
       "      <td>145</td>\n",
       "      <td>21.4</td>\n",
       "      <td>4.0</td>\n",
       "    </tr>\n",
       "    <tr>\n",
       "      <th>9133</th>\n",
       "      <td>2019</td>\n",
       "      <td>139559</td>\n",
       "      <td>Semi-Auto</td>\n",
       "      <td>1000</td>\n",
       "      <td>145</td>\n",
       "      <td>22.1</td>\n",
       "      <td>4.0</td>\n",
       "    </tr>\n",
       "    <tr>\n",
       "      <th>8821</th>\n",
       "      <td>2020</td>\n",
       "      <td>138439</td>\n",
       "      <td>Semi-Auto</td>\n",
       "      <td>1000</td>\n",
       "      <td>145</td>\n",
       "      <td>22.1</td>\n",
       "      <td>4.0</td>\n",
       "    </tr>\n",
       "    <tr>\n",
       "      <th>5902</th>\n",
       "      <td>2018</td>\n",
       "      <td>135771</td>\n",
       "      <td>Semi-Auto</td>\n",
       "      <td>19000</td>\n",
       "      <td>145</td>\n",
       "      <td>21.4</td>\n",
       "      <td>4.0</td>\n",
       "    </tr>\n",
       "    <tr>\n",
       "      <th>7864</th>\n",
       "      <td>2018</td>\n",
       "      <td>135124</td>\n",
       "      <td>Semi-Auto</td>\n",
       "      <td>18234</td>\n",
       "      <td>150</td>\n",
       "      <td>21.4</td>\n",
       "      <td>4.0</td>\n",
       "    </tr>\n",
       "    <tr>\n",
       "      <th>8673</th>\n",
       "      <td>2019</td>\n",
       "      <td>134219</td>\n",
       "      <td>Semi-Auto</td>\n",
       "      <td>1000</td>\n",
       "      <td>145</td>\n",
       "      <td>24.8</td>\n",
       "      <td>4.0</td>\n",
       "    </tr>\n",
       "    <tr>\n",
       "      <th>6210</th>\n",
       "      <td>2019</td>\n",
       "      <td>129990</td>\n",
       "      <td>Automatic</td>\n",
       "      <td>1000</td>\n",
       "      <td>145</td>\n",
       "      <td>24.8</td>\n",
       "      <td>4.0</td>\n",
       "    </tr>\n",
       "    <tr>\n",
       "      <th>4759</th>\n",
       "      <td>2019</td>\n",
       "      <td>126000</td>\n",
       "      <td>Automatic</td>\n",
       "      <td>250</td>\n",
       "      <td>145</td>\n",
       "      <td>24.6</td>\n",
       "      <td>4.0</td>\n",
       "    </tr>\n",
       "    <tr>\n",
       "      <th>2647</th>\n",
       "      <td>2019</td>\n",
       "      <td>125796</td>\n",
       "      <td>Automatic</td>\n",
       "      <td>637</td>\n",
       "      <td>145</td>\n",
       "      <td>24.8</td>\n",
       "      <td>4.0</td>\n",
       "    </tr>\n",
       "    <tr>\n",
       "      <th>6223</th>\n",
       "      <td>2019</td>\n",
       "      <td>124999</td>\n",
       "      <td>Automatic</td>\n",
       "      <td>1500</td>\n",
       "      <td>145</td>\n",
       "      <td>31.7</td>\n",
       "      <td>4.0</td>\n",
       "    </tr>\n",
       "    <tr>\n",
       "      <th>4094</th>\n",
       "      <td>2019</td>\n",
       "      <td>124366</td>\n",
       "      <td>Semi-Auto</td>\n",
       "      <td>880</td>\n",
       "      <td>145</td>\n",
       "      <td>24.8</td>\n",
       "      <td>4.0</td>\n",
       "    </tr>\n",
       "    <tr>\n",
       "      <th>2629</th>\n",
       "      <td>2019</td>\n",
       "      <td>123846</td>\n",
       "      <td>Semi-Auto</td>\n",
       "      <td>2951</td>\n",
       "      <td>145</td>\n",
       "      <td>22.1</td>\n",
       "      <td>4.0</td>\n",
       "    </tr>\n",
       "    <tr>\n",
       "      <th>7134</th>\n",
       "      <td>2019</td>\n",
       "      <td>115359</td>\n",
       "      <td>Semi-Auto</td>\n",
       "      <td>1000</td>\n",
       "      <td>145</td>\n",
       "      <td>30.1</td>\n",
       "      <td>4.0</td>\n",
       "    </tr>\n",
       "    <tr>\n",
       "      <th>9159</th>\n",
       "      <td>2019</td>\n",
       "      <td>114199</td>\n",
       "      <td>Semi-Auto</td>\n",
       "      <td>891</td>\n",
       "      <td>145</td>\n",
       "      <td>22.6</td>\n",
       "      <td>4.0</td>\n",
       "    </tr>\n",
       "    <tr>\n",
       "      <th>1980</th>\n",
       "      <td>2019</td>\n",
       "      <td>109995</td>\n",
       "      <td>Semi-Auto</td>\n",
       "      <td>4688</td>\n",
       "      <td>150</td>\n",
       "      <td>31.7</td>\n",
       "      <td>4.0</td>\n",
       "    </tr>\n",
       "  </tbody>\n",
       "</table>\n",
       "</div>"
      ],
      "text/plain": [
       "       year   price transmission  mileage  tax   mpg  engineSize\n",
       "6199   2020  159999    Semi-Auto     1350  145  21.4         4.0\n",
       "10044  2020  154998    Automatic     3000  150  21.4         4.0\n",
       "5      2011  149948    Automatic     3000  570  21.4         6.2\n",
       "8737   2019  140319    Semi-Auto      785  150  22.1         4.0\n",
       "6386   2018  139995    Semi-Auto    13046  145  21.4         4.0\n",
       "8      2019  139948    Automatic    12000  145  21.4         4.0\n",
       "9133   2019  139559    Semi-Auto     1000  145  22.1         4.0\n",
       "8821   2020  138439    Semi-Auto     1000  145  22.1         4.0\n",
       "5902   2018  135771    Semi-Auto    19000  145  21.4         4.0\n",
       "7864   2018  135124    Semi-Auto    18234  150  21.4         4.0\n",
       "8673   2019  134219    Semi-Auto     1000  145  24.8         4.0\n",
       "6210   2019  129990    Automatic     1000  145  24.8         4.0\n",
       "4759   2019  126000    Automatic      250  145  24.6         4.0\n",
       "2647   2019  125796    Automatic      637  145  24.8         4.0\n",
       "6223   2019  124999    Automatic     1500  145  31.7         4.0\n",
       "4094   2019  124366    Semi-Auto      880  145  24.8         4.0\n",
       "2629   2019  123846    Semi-Auto     2951  145  22.1         4.0\n",
       "7134   2019  115359    Semi-Auto     1000  145  30.1         4.0\n",
       "9159   2019  114199    Semi-Auto      891  145  22.6         4.0\n",
       "1980   2019  109995    Semi-Auto     4688  150  31.7         4.0"
      ]
     },
     "execution_count": 12,
     "metadata": {},
     "output_type": "execute_result"
    }
   ],
   "source": [
    "#En yüksek fiyatı en yukarda getirme : ascending = false \n",
    "df.sort_values(\"price\", ascending = False).head(20)"
   ]
  },
  {
   "cell_type": "markdown",
   "id": "a5500cde",
   "metadata": {},
   "source": [
    "## En pahalı araçları çıkarma (Grafiğe göre yorumladık)"
   ]
  },
  {
   "cell_type": "code",
   "execution_count": 13,
   "id": "8350695f",
   "metadata": {},
   "outputs": [
    {
     "data": {
      "text/plain": [
       "13119"
      ]
     },
     "execution_count": 13,
     "metadata": {},
     "output_type": "execute_result"
    }
   ],
   "source": [
    "len(df)"
   ]
  },
  {
   "cell_type": "code",
   "execution_count": 14,
   "id": "9c4cd53a",
   "metadata": {
    "scrolled": true
   },
   "outputs": [
    {
     "data": {
      "text/plain": [
       "131.19"
      ]
     },
     "execution_count": 14,
     "metadata": {},
     "output_type": "execute_result"
    }
   ],
   "source": [
    "len(df) * 0.01"
   ]
  },
  {
   "cell_type": "markdown",
   "id": "a3d1c90d",
   "metadata": {},
   "source": [
    "## En pahalı grafiği bozan verileri çıkardık en pahalı %1 ini çıkarttık"
   ]
  },
  {
   "cell_type": "code",
   "execution_count": 15,
   "id": "f6306600",
   "metadata": {
    "scrolled": false
   },
   "outputs": [],
   "source": [
    "Ndf = df.sort_values(\"price\", ascending = False).iloc[131:]"
   ]
  },
  {
   "cell_type": "code",
   "execution_count": 16,
   "id": "401177a7",
   "metadata": {
    "scrolled": true
   },
   "outputs": [
    {
     "data": {
      "text/html": [
       "<div>\n",
       "<style scoped>\n",
       "    .dataframe tbody tr th:only-of-type {\n",
       "        vertical-align: middle;\n",
       "    }\n",
       "\n",
       "    .dataframe tbody tr th {\n",
       "        vertical-align: top;\n",
       "    }\n",
       "\n",
       "    .dataframe thead th {\n",
       "        text-align: right;\n",
       "    }\n",
       "</style>\n",
       "<table border=\"1\" class=\"dataframe\">\n",
       "  <thead>\n",
       "    <tr style=\"text-align: right;\">\n",
       "      <th></th>\n",
       "      <th>year</th>\n",
       "      <th>price</th>\n",
       "      <th>transmission</th>\n",
       "      <th>mileage</th>\n",
       "      <th>tax</th>\n",
       "      <th>mpg</th>\n",
       "      <th>engineSize</th>\n",
       "    </tr>\n",
       "  </thead>\n",
       "  <tbody>\n",
       "    <tr>\n",
       "      <th>6177</th>\n",
       "      <td>2019</td>\n",
       "      <td>65990</td>\n",
       "      <td>Semi-Auto</td>\n",
       "      <td>5076</td>\n",
       "      <td>150</td>\n",
       "      <td>30.4</td>\n",
       "      <td>3.0</td>\n",
       "    </tr>\n",
       "    <tr>\n",
       "      <th>5779</th>\n",
       "      <td>2020</td>\n",
       "      <td>65990</td>\n",
       "      <td>Semi-Auto</td>\n",
       "      <td>999</td>\n",
       "      <td>145</td>\n",
       "      <td>28.0</td>\n",
       "      <td>4.0</td>\n",
       "    </tr>\n",
       "    <tr>\n",
       "      <th>3191</th>\n",
       "      <td>2020</td>\n",
       "      <td>65980</td>\n",
       "      <td>Semi-Auto</td>\n",
       "      <td>3999</td>\n",
       "      <td>145</td>\n",
       "      <td>28.0</td>\n",
       "      <td>4.0</td>\n",
       "    </tr>\n",
       "    <tr>\n",
       "      <th>4727</th>\n",
       "      <td>2019</td>\n",
       "      <td>65000</td>\n",
       "      <td>Semi-Auto</td>\n",
       "      <td>3398</td>\n",
       "      <td>145</td>\n",
       "      <td>27.2</td>\n",
       "      <td>4.0</td>\n",
       "    </tr>\n",
       "    <tr>\n",
       "      <th>8814</th>\n",
       "      <td>2019</td>\n",
       "      <td>64999</td>\n",
       "      <td>Semi-Auto</td>\n",
       "      <td>119</td>\n",
       "      <td>145</td>\n",
       "      <td>40.9</td>\n",
       "      <td>3.0</td>\n",
       "    </tr>\n",
       "    <tr>\n",
       "      <th>...</th>\n",
       "      <td>...</td>\n",
       "      <td>...</td>\n",
       "      <td>...</td>\n",
       "      <td>...</td>\n",
       "      <td>...</td>\n",
       "      <td>...</td>\n",
       "      <td>...</td>\n",
       "    </tr>\n",
       "    <tr>\n",
       "      <th>11549</th>\n",
       "      <td>2002</td>\n",
       "      <td>1495</td>\n",
       "      <td>Automatic</td>\n",
       "      <td>13800</td>\n",
       "      <td>305</td>\n",
       "      <td>39.8</td>\n",
       "      <td>2.7</td>\n",
       "    </tr>\n",
       "    <tr>\n",
       "      <th>12594</th>\n",
       "      <td>2004</td>\n",
       "      <td>1495</td>\n",
       "      <td>Manual</td>\n",
       "      <td>119000</td>\n",
       "      <td>300</td>\n",
       "      <td>34.5</td>\n",
       "      <td>1.8</td>\n",
       "    </tr>\n",
       "    <tr>\n",
       "      <th>11765</th>\n",
       "      <td>2000</td>\n",
       "      <td>1490</td>\n",
       "      <td>Automatic</td>\n",
       "      <td>87000</td>\n",
       "      <td>265</td>\n",
       "      <td>27.2</td>\n",
       "      <td>3.2</td>\n",
       "    </tr>\n",
       "    <tr>\n",
       "      <th>12008</th>\n",
       "      <td>2010</td>\n",
       "      <td>1350</td>\n",
       "      <td>Manual</td>\n",
       "      <td>116126</td>\n",
       "      <td>145</td>\n",
       "      <td>54.3</td>\n",
       "      <td>2.0</td>\n",
       "    </tr>\n",
       "    <tr>\n",
       "      <th>11816</th>\n",
       "      <td>2003</td>\n",
       "      <td>650</td>\n",
       "      <td>Manual</td>\n",
       "      <td>109090</td>\n",
       "      <td>235</td>\n",
       "      <td>40.0</td>\n",
       "      <td>1.4</td>\n",
       "    </tr>\n",
       "  </tbody>\n",
       "</table>\n",
       "<p>12988 rows × 7 columns</p>\n",
       "</div>"
      ],
      "text/plain": [
       "       year  price transmission  mileage  tax   mpg  engineSize\n",
       "6177   2019  65990    Semi-Auto     5076  150  30.4         3.0\n",
       "5779   2020  65990    Semi-Auto      999  145  28.0         4.0\n",
       "3191   2020  65980    Semi-Auto     3999  145  28.0         4.0\n",
       "4727   2019  65000    Semi-Auto     3398  145  27.2         4.0\n",
       "8814   2019  64999    Semi-Auto      119  145  40.9         3.0\n",
       "...     ...    ...          ...      ...  ...   ...         ...\n",
       "11549  2002   1495    Automatic    13800  305  39.8         2.7\n",
       "12594  2004   1495       Manual   119000  300  34.5         1.8\n",
       "11765  2000   1490    Automatic    87000  265  27.2         3.2\n",
       "12008  2010   1350       Manual   116126  145  54.3         2.0\n",
       "11816  2003    650       Manual   109090  235  40.0         1.4\n",
       "\n",
       "[12988 rows x 7 columns]"
      ]
     },
     "execution_count": 16,
     "metadata": {},
     "output_type": "execute_result"
    }
   ],
   "source": [
    "Ndf"
   ]
  },
  {
   "cell_type": "code",
   "execution_count": 17,
   "id": "a02c8e33",
   "metadata": {
    "scrolled": true
   },
   "outputs": [
    {
     "name": "stderr",
     "output_type": "stream",
     "text": [
      "C:\\Users\\cihat\\anaconda3\\lib\\site-packages\\seaborn\\distributions.py:2557: FutureWarning: `distplot` is a deprecated function and will be removed in a future version. Please adapt your code to use either `displot` (a figure-level function with similar flexibility) or `histplot` (an axes-level function for histograms).\n",
      "  warnings.warn(msg, FutureWarning)\n"
     ]
    },
    {
     "data": {
      "text/plain": [
       "<AxesSubplot:xlabel='price', ylabel='Density'>"
      ]
     },
     "execution_count": 17,
     "metadata": {},
     "output_type": "execute_result"
    },
    {
     "data": {
      "image/png": "[encoded data removed]",
      "text/plain": [
       "<Figure size 504x360 with 1 Axes>"
      ]
     },
     "metadata": {
      "needs_background": "light"
     },
     "output_type": "display_data"
    }
   ],
   "source": [
    "plt.figure(figsize=(7,5))\n",
    "sbn.distplot(Ndf[\"price\"])"
   ]
  },
  {
   "cell_type": "code",
   "execution_count": 18,
   "id": "0e6c77c9",
   "metadata": {
    "scrolled": true
   },
   "outputs": [
    {
     "data": {
      "text/plain": [
       "year\n",
       "1970    24999.000000\n",
       "1997     9995.000000\n",
       "1998     8605.000000\n",
       "1999     5995.000000\n",
       "2000     5743.333333\n",
       "2001     4957.900000\n",
       "2002     5820.444444\n",
       "2003     4878.000000\n",
       "2004     4727.615385\n",
       "2005     4426.111111\n",
       "2006     4036.875000\n",
       "2007     5136.045455\n",
       "2008     6967.437500\n",
       "2009     6166.764706\n",
       "2010     8308.473684\n",
       "2011    12624.894737\n",
       "2012    10845.140351\n",
       "2013    11939.842466\n",
       "2014    14042.936864\n",
       "2015    16731.780020\n",
       "2016    19307.892948\n",
       "2017    21514.307854\n",
       "2018    25720.162918\n",
       "2019    31290.020865\n",
       "2020    35433.282337\n",
       "Name: price, dtype: float64"
      ]
     },
     "execution_count": 18,
     "metadata": {},
     "output_type": "execute_result"
    }
   ],
   "source": [
    "df.groupby(\"year\").mean()[\"price\"]"
   ]
  },
  {
   "cell_type": "code",
   "execution_count": 19,
   "id": "aebf61c1",
   "metadata": {
    "scrolled": true
   },
   "outputs": [
    {
     "data": {
      "text/plain": [
       "year\n",
       "1970    24999.000000\n",
       "1997     9995.000000\n",
       "1998     8605.000000\n",
       "1999     5995.000000\n",
       "2000     5743.333333\n",
       "2001     4957.900000\n",
       "2002     5820.444444\n",
       "2003     4878.000000\n",
       "2004     4727.615385\n",
       "2005     4426.111111\n",
       "2006     4036.875000\n",
       "2007     5136.045455\n",
       "2008     6967.437500\n",
       "2009     6166.764706\n",
       "2010     8308.473684\n",
       "2011     8913.459459\n",
       "2012    10845.140351\n",
       "2013    11939.842466\n",
       "2014    14042.936864\n",
       "2015    16647.822222\n",
       "2016    19223.558943\n",
       "2017    21356.280421\n",
       "2018    24800.844506\n",
       "2019    30289.524832\n",
       "2020    34234.794872\n",
       "Name: price, dtype: float64"
      ]
     },
     "execution_count": 19,
     "metadata": {},
     "output_type": "execute_result"
    }
   ],
   "source": [
    "Ndf.groupby(\"year\").mean()[\"price\"]"
   ]
  },
  {
   "cell_type": "code",
   "execution_count": 20,
   "id": "d705a660",
   "metadata": {},
   "outputs": [
    {
     "data": {
      "text/plain": [
       "year\n",
       "1997     9995.000000\n",
       "1998     8605.000000\n",
       "1999     5995.000000\n",
       "2000     5743.333333\n",
       "2001     4957.900000\n",
       "2002     5820.444444\n",
       "2003     4878.000000\n",
       "2004     4727.615385\n",
       "2005     4426.111111\n",
       "2006     4036.875000\n",
       "2007     5136.045455\n",
       "2008     6967.437500\n",
       "2009     6166.764706\n",
       "2010     8308.473684\n",
       "2011     8913.459459\n",
       "2012    10845.140351\n",
       "2013    11939.842466\n",
       "2014    14042.936864\n",
       "2015    16647.822222\n",
       "2016    19223.558943\n",
       "2017    21356.280421\n",
       "2018    24800.844506\n",
       "2019    30289.524832\n",
       "2020    34234.794872\n",
       "Name: price, dtype: float64"
      ]
     },
     "execution_count": 20,
     "metadata": {},
     "output_type": "execute_result"
    }
   ],
   "source": [
    "Ndf[Ndf.year !=1970].groupby(\"year\").mean()[\"price\"]"
   ]
  },
  {
   "cell_type": "code",
   "execution_count": 21,
   "id": "8c9ad7d8",
   "metadata": {},
   "outputs": [],
   "source": [
    "df = Ndf"
   ]
  },
  {
   "cell_type": "code",
   "execution_count": 22,
   "id": "c58f462d",
   "metadata": {},
   "outputs": [],
   "source": [
    "df = df[df.year != 1970]"
   ]
  },
  {
   "cell_type": "code",
   "execution_count": 23,
   "id": "fce998fd",
   "metadata": {},
   "outputs": [
    {
     "data": {
      "text/plain": [
       "year\n",
       "1997     9995.000000\n",
       "1998     8605.000000\n",
       "1999     5995.000000\n",
       "2000     5743.333333\n",
       "2001     4957.900000\n",
       "2002     5820.444444\n",
       "2003     4878.000000\n",
       "2004     4727.615385\n",
       "2005     4426.111111\n",
       "2006     4036.875000\n",
       "2007     5136.045455\n",
       "2008     6967.437500\n",
       "2009     6166.764706\n",
       "2010     8308.473684\n",
       "2011     8913.459459\n",
       "2012    10845.140351\n",
       "2013    11939.842466\n",
       "2014    14042.936864\n",
       "2015    16647.822222\n",
       "2016    19223.558943\n",
       "2017    21356.280421\n",
       "2018    24800.844506\n",
       "2019    30289.524832\n",
       "2020    34234.794872\n",
       "Name: price, dtype: float64"
      ]
     },
     "execution_count": 23,
     "metadata": {},
     "output_type": "execute_result"
    }
   ],
   "source": [
    "df.groupby(\"year\").mean()[\"price\"]"
   ]
  },
  {
   "cell_type": "code",
   "execution_count": 24,
   "id": "8f542ce0",
   "metadata": {},
   "outputs": [
    {
     "data": {
      "text/html": [
       "<div>\n",
       "<style scoped>\n",
       "    .dataframe tbody tr th:only-of-type {\n",
       "        vertical-align: middle;\n",
       "    }\n",
       "\n",
       "    .dataframe tbody tr th {\n",
       "        vertical-align: top;\n",
       "    }\n",
       "\n",
       "    .dataframe thead th {\n",
       "        text-align: right;\n",
       "    }\n",
       "</style>\n",
       "<table border=\"1\" class=\"dataframe\">\n",
       "  <thead>\n",
       "    <tr style=\"text-align: right;\">\n",
       "      <th></th>\n",
       "      <th>year</th>\n",
       "      <th>price</th>\n",
       "      <th>transmission</th>\n",
       "      <th>mileage</th>\n",
       "      <th>tax</th>\n",
       "      <th>mpg</th>\n",
       "      <th>engineSize</th>\n",
       "    </tr>\n",
       "  </thead>\n",
       "  <tbody>\n",
       "    <tr>\n",
       "      <th>6177</th>\n",
       "      <td>2019</td>\n",
       "      <td>65990</td>\n",
       "      <td>Semi-Auto</td>\n",
       "      <td>5076</td>\n",
       "      <td>150</td>\n",
       "      <td>30.4</td>\n",
       "      <td>3.0</td>\n",
       "    </tr>\n",
       "    <tr>\n",
       "      <th>5779</th>\n",
       "      <td>2020</td>\n",
       "      <td>65990</td>\n",
       "      <td>Semi-Auto</td>\n",
       "      <td>999</td>\n",
       "      <td>145</td>\n",
       "      <td>28.0</td>\n",
       "      <td>4.0</td>\n",
       "    </tr>\n",
       "    <tr>\n",
       "      <th>3191</th>\n",
       "      <td>2020</td>\n",
       "      <td>65980</td>\n",
       "      <td>Semi-Auto</td>\n",
       "      <td>3999</td>\n",
       "      <td>145</td>\n",
       "      <td>28.0</td>\n",
       "      <td>4.0</td>\n",
       "    </tr>\n",
       "    <tr>\n",
       "      <th>4727</th>\n",
       "      <td>2019</td>\n",
       "      <td>65000</td>\n",
       "      <td>Semi-Auto</td>\n",
       "      <td>3398</td>\n",
       "      <td>145</td>\n",
       "      <td>27.2</td>\n",
       "      <td>4.0</td>\n",
       "    </tr>\n",
       "    <tr>\n",
       "      <th>8814</th>\n",
       "      <td>2019</td>\n",
       "      <td>64999</td>\n",
       "      <td>Semi-Auto</td>\n",
       "      <td>119</td>\n",
       "      <td>145</td>\n",
       "      <td>40.9</td>\n",
       "      <td>3.0</td>\n",
       "    </tr>\n",
       "  </tbody>\n",
       "</table>\n",
       "</div>"
      ],
      "text/plain": [
       "      year  price transmission  mileage  tax   mpg  engineSize\n",
       "6177  2019  65990    Semi-Auto     5076  150  30.4         3.0\n",
       "5779  2020  65990    Semi-Auto      999  145  28.0         4.0\n",
       "3191  2020  65980    Semi-Auto     3999  145  28.0         4.0\n",
       "4727  2019  65000    Semi-Auto     3398  145  27.2         4.0\n",
       "8814  2019  64999    Semi-Auto      119  145  40.9         3.0"
      ]
     },
     "execution_count": 24,
     "metadata": {},
     "output_type": "execute_result"
    }
   ],
   "source": [
    "df.head()"
   ]
  },
  {
   "cell_type": "code",
   "execution_count": 25,
   "id": "812fcb83",
   "metadata": {},
   "outputs": [],
   "source": [
    "df = df.drop(\"transmission\", axis = 1)"
   ]
  },
  {
   "cell_type": "code",
   "execution_count": 26,
   "id": "d872dae3",
   "metadata": {},
   "outputs": [
    {
     "data": {
      "text/html": [
       "<div>\n",
       "<style scoped>\n",
       "    .dataframe tbody tr th:only-of-type {\n",
       "        vertical-align: middle;\n",
       "    }\n",
       "\n",
       "    .dataframe tbody tr th {\n",
       "        vertical-align: top;\n",
       "    }\n",
       "\n",
       "    .dataframe thead th {\n",
       "        text-align: right;\n",
       "    }\n",
       "</style>\n",
       "<table border=\"1\" class=\"dataframe\">\n",
       "  <thead>\n",
       "    <tr style=\"text-align: right;\">\n",
       "      <th></th>\n",
       "      <th>year</th>\n",
       "      <th>price</th>\n",
       "      <th>mileage</th>\n",
       "      <th>tax</th>\n",
       "      <th>mpg</th>\n",
       "      <th>engineSize</th>\n",
       "    </tr>\n",
       "  </thead>\n",
       "  <tbody>\n",
       "    <tr>\n",
       "      <th>6177</th>\n",
       "      <td>2019</td>\n",
       "      <td>65990</td>\n",
       "      <td>5076</td>\n",
       "      <td>150</td>\n",
       "      <td>30.4</td>\n",
       "      <td>3.0</td>\n",
       "    </tr>\n",
       "    <tr>\n",
       "      <th>5779</th>\n",
       "      <td>2020</td>\n",
       "      <td>65990</td>\n",
       "      <td>999</td>\n",
       "      <td>145</td>\n",
       "      <td>28.0</td>\n",
       "      <td>4.0</td>\n",
       "    </tr>\n",
       "    <tr>\n",
       "      <th>3191</th>\n",
       "      <td>2020</td>\n",
       "      <td>65980</td>\n",
       "      <td>3999</td>\n",
       "      <td>145</td>\n",
       "      <td>28.0</td>\n",
       "      <td>4.0</td>\n",
       "    </tr>\n",
       "    <tr>\n",
       "      <th>4727</th>\n",
       "      <td>2019</td>\n",
       "      <td>65000</td>\n",
       "      <td>3398</td>\n",
       "      <td>145</td>\n",
       "      <td>27.2</td>\n",
       "      <td>4.0</td>\n",
       "    </tr>\n",
       "    <tr>\n",
       "      <th>8814</th>\n",
       "      <td>2019</td>\n",
       "      <td>64999</td>\n",
       "      <td>119</td>\n",
       "      <td>145</td>\n",
       "      <td>40.9</td>\n",
       "      <td>3.0</td>\n",
       "    </tr>\n",
       "  </tbody>\n",
       "</table>\n",
       "</div>"
      ],
      "text/plain": [
       "      year  price  mileage  tax   mpg  engineSize\n",
       "6177  2019  65990     5076  150  30.4         3.0\n",
       "5779  2020  65990      999  145  28.0         4.0\n",
       "3191  2020  65980     3999  145  28.0         4.0\n",
       "4727  2019  65000     3398  145  27.2         4.0\n",
       "8814  2019  64999      119  145  40.9         3.0"
      ]
     },
     "execution_count": 26,
     "metadata": {},
     "output_type": "execute_result"
    }
   ],
   "source": [
    "df.head()"
   ]
  },
  {
   "cell_type": "code",
   "execution_count": 27,
   "id": "19c88252",
   "metadata": {},
   "outputs": [],
   "source": [
    "y = df[\"price\"].values\n",
    "x = df.drop(\"price\", axis=1).values"
   ]
  },
  {
   "cell_type": "code",
   "execution_count": 28,
   "id": "ac3e35f4",
   "metadata": {},
   "outputs": [
    {
     "data": {
      "text/plain": [
       "array([65990, 65990, 65980, ...,  1490,  1350,   650], dtype=int64)"
      ]
     },
     "execution_count": 28,
     "metadata": {},
     "output_type": "execute_result"
    }
   ],
   "source": [
    "y"
   ]
  },
  {
   "cell_type": "code",
   "execution_count": 29,
   "id": "f3dd8ec6",
   "metadata": {
    "scrolled": true
   },
   "outputs": [
    {
     "data": {
      "text/plain": [
       "array([[2.01900e+03, 5.07600e+03, 1.50000e+02, 3.04000e+01, 3.00000e+00],\n",
       "       [2.02000e+03, 9.99000e+02, 1.45000e+02, 2.80000e+01, 4.00000e+00],\n",
       "       [2.02000e+03, 3.99900e+03, 1.45000e+02, 2.80000e+01, 4.00000e+00],\n",
       "       ...,\n",
       "       [2.00000e+03, 8.70000e+04, 2.65000e+02, 2.72000e+01, 3.20000e+00],\n",
       "       [2.01000e+03, 1.16126e+05, 1.45000e+02, 5.43000e+01, 2.00000e+00],\n",
       "       [2.00300e+03, 1.09090e+05, 2.35000e+02, 4.00000e+01, 1.40000e+00]])"
      ]
     },
     "execution_count": 29,
     "metadata": {},
     "output_type": "execute_result"
    }
   ],
   "source": [
    "x"
   ]
  },
  {
   "cell_type": "code",
   "execution_count": 30,
   "id": "542229e8",
   "metadata": {},
   "outputs": [],
   "source": [
    "from sklearn.model_selection import train_test_split"
   ]
  },
  {
   "cell_type": "code",
   "execution_count": 31,
   "id": "342dbf84",
   "metadata": {},
   "outputs": [],
   "source": [
    "x_train, x_test, y_train, y_test = train_test_split(x,y,test_size=0.3,random_state=10)"
   ]
  },
  {
   "cell_type": "code",
   "execution_count": 32,
   "id": "1ee1d5c9",
   "metadata": {},
   "outputs": [],
   "source": [
    "from sklearn.preprocessing import MinMaxScaler\n",
    "scaler = MinMaxScaler()"
   ]
  },
  {
   "cell_type": "code",
   "execution_count": 35,
   "id": "47ef4fd2",
   "metadata": {},
   "outputs": [],
   "source": [
    "X_train = scaler.fit_transform(x_train)\n",
    "X_test = scaler.transform(x_test)"
   ]
  },
  {
   "cell_type": "code",
   "execution_count": 36,
   "id": "8841c8ba",
   "metadata": {},
   "outputs": [],
   "source": [
    "from tensorflow.keras.models import Sequential\n",
    "from tensorflow.keras.layers import Dense"
   ]
  },
  {
   "cell_type": "code",
   "execution_count": 37,
   "id": "2aaf26ed",
   "metadata": {},
   "outputs": [
    {
     "data": {
      "text/plain": [
       "(9090, 5)"
      ]
     },
     "execution_count": 37,
     "metadata": {},
     "output_type": "execute_result"
    }
   ],
   "source": [
    "x_train.shape"
   ]
  },
  {
   "cell_type": "code",
   "execution_count": 38,
   "id": "5a121493",
   "metadata": {},
   "outputs": [],
   "source": [
    "model = Sequential()\n",
    "\n",
    "model.add(Dense(12, activation = \"relu\"))\n",
    "model.add(Dense(12, activation = \"relu\"))\n",
    "model.add(Dense(12, activation = \"relu\"))\n",
    "model.add(Dense(12, activation = \"relu\"))\n",
    "\n",
    "model.add(Dense(1))\n",
    "\n",
    "model.compile(optimizer=\"adam\", loss=\"mse\")"
   ]
  },
  {
   "cell_type": "markdown",
   "id": "4d206981",
   "metadata": {},
   "source": [
    "## epochs = kaç işlemde yapmasını istediğimiz \n",
    "## batch_size = 10 bin veriden 300 300 vererek eğitiyor\n",
    "## validation_data = val_loss = veriyor doğrulama kayıpları\n",
    "## epoch fazla verirsek overfitting (ezberleme) yapar"
   ]
  },
  {
   "cell_type": "code",
   "execution_count": 39,
   "id": "cf89763b",
   "metadata": {},
   "outputs": [
    {
     "name": "stdout",
     "output_type": "stream",
     "text": [
      "Epoch 1/300\n",
      "37/37 [==============================] - 0s 3ms/step - loss: 672153152.0000 - val_loss: 688112576.0000\n",
      "Epoch 2/300\n",
      "37/37 [==============================] - 0s 739us/step - loss: 672143168.0000 - val_loss: 688101888.0000\n",
      "Epoch 3/300\n",
      "37/37 [==============================] - 0s 780us/step - loss: 672118528.0000 - val_loss: 688052736.0000\n",
      "Epoch 4/300\n",
      "37/37 [==============================] - 0s 910us/step - loss: 672025152.0000 - val_loss: 687882752.0000\n",
      "Epoch 5/300\n",
      "37/37 [==============================] - 0s 751us/step - loss: 671707776.0000 - val_loss: 687324608.0000\n",
      "Epoch 6/300\n",
      "37/37 [==============================] - 0s 1000us/step - loss: 670742656.0000 - val_loss: 685725184.0000\n",
      "Epoch 7/300\n",
      "37/37 [==============================] - 0s 877us/step - loss: 668222720.0000 - val_loss: 681873408.0000\n",
      "Epoch 8/300\n",
      "37/37 [==============================] - 0s 938us/step - loss: 662643712.0000 - val_loss: 673832384.0000\n",
      "Epoch 9/300\n",
      "37/37 [==============================] - 0s 939us/step - loss: 651612992.0000 - val_loss: 658652480.0000\n",
      "Epoch 10/300\n",
      "37/37 [==============================] - 0s 752us/step - loss: 631791936.0000 - val_loss: 632453504.0000\n",
      "Epoch 11/300\n",
      "37/37 [==============================] - 0s 937us/step - loss: 598988224.0000 - val_loss: 590774080.0000\n",
      "Epoch 12/300\n",
      "37/37 [==============================] - 0s 751us/step - loss: 549278464.0000 - val_loss: 530474720.0000\n",
      "Epoch 13/300\n",
      "37/37 [==============================] - 0s 938us/step - loss: 480789536.0000 - val_loss: 451005088.0000\n",
      "Epoch 14/300\n",
      "37/37 [==============================] - 0s 939us/step - loss: 395257536.0000 - val_loss: 357531776.0000\n",
      "Epoch 15/300\n",
      "37/37 [==============================] - 0s 751us/step - loss: 301206656.0000 - val_loss: 261664896.0000\n",
      "Epoch 16/300\n",
      "37/37 [==============================] - 0s 938us/step - loss: 212852032.0000 - val_loss: 180036304.0000\n",
      "Epoch 17/300\n",
      "37/37 [==============================] - 0s 752us/step - loss: 145844016.0000 - val_loss: 126289056.0000\n",
      "Epoch 18/300\n",
      "37/37 [==============================] - 0s 1ms/step - loss: 108037496.0000 - val_loss: 100476792.0000\n",
      "Epoch 19/300\n",
      "37/37 [==============================] - 0s 774us/step - loss: 93011600.0000 - val_loss: 92105712.0000\n",
      "Epoch 20/300\n",
      "37/37 [==============================] - 0s 751us/step - loss: 88779872.0000 - val_loss: 89549560.0000\n",
      "Epoch 21/300\n",
      "37/37 [==============================] - 0s 939us/step - loss: 87536704.0000 - val_loss: 88645872.0000\n",
      "Epoch 22/300\n",
      "37/37 [==============================] - 0s 750us/step - loss: 86899512.0000 - val_loss: 88015104.0000\n",
      "Epoch 23/300\n",
      "37/37 [==============================] - 0s 938us/step - loss: 86362640.0000 - val_loss: 87470976.0000\n",
      "Epoch 24/300\n",
      "37/37 [==============================] - 0s 1ms/step - loss: 85852056.0000 - val_loss: 86960000.0000\n",
      "Epoch 25/300\n",
      "37/37 [==============================] - 0s 614us/step - loss: 85356792.0000 - val_loss: 86483240.0000\n",
      "Epoch 26/300\n",
      "37/37 [==============================] - 0s 938us/step - loss: 84870984.0000 - val_loss: 86016728.0000\n",
      "Epoch 27/300\n",
      "37/37 [==============================] - 0s 938us/step - loss: 84408192.0000 - val_loss: 85565608.0000\n",
      "Epoch 28/300\n",
      "37/37 [==============================] - 0s 939us/step - loss: 83948488.0000 - val_loss: 85110856.0000\n",
      "Epoch 29/300\n",
      "37/37 [==============================] - 0s 939us/step - loss: 83503352.0000 - val_loss: 84642512.0000\n",
      "Epoch 30/300\n",
      "37/37 [==============================] - 0s 812us/step - loss: 83064408.0000 - val_loss: 84215384.0000\n",
      "Epoch 31/300\n",
      "37/37 [==============================] - 0s 784us/step - loss: 82619688.0000 - val_loss: 83762776.0000\n",
      "Epoch 32/300\n",
      "37/37 [==============================] - ETA: 0s - loss: 92919808.00 - 0s 812us/step - loss: 82184760.0000 - val_loss: 83332120.0000\n",
      "Epoch 33/300\n",
      "37/37 [==============================] - 0s 839us/step - loss: 81755552.0000 - val_loss: 82936440.0000\n",
      "Epoch 34/300\n",
      "37/37 [==============================] - 0s 812us/step - loss: 81332232.0000 - val_loss: 82507616.0000\n",
      "Epoch 35/300\n",
      "37/37 [==============================] - 0s 866us/step - loss: 80908048.0000 - val_loss: 82091024.0000\n",
      "Epoch 36/300\n",
      "37/37 [==============================] - 0s 839us/step - loss: 80487384.0000 - val_loss: 81654720.0000\n",
      "Epoch 37/300\n",
      "37/37 [==============================] - 0s 893us/step - loss: 80059552.0000 - val_loss: 81264848.0000\n",
      "Epoch 38/300\n",
      "37/37 [==============================] - 0s 839us/step - loss: 79651736.0000 - val_loss: 80825256.0000\n",
      "Epoch 39/300\n",
      "37/37 [==============================] - 0s 839us/step - loss: 79218888.0000 - val_loss: 80439752.0000\n",
      "Epoch 40/300\n",
      "37/37 [==============================] - 0s 893us/step - loss: 78797856.0000 - val_loss: 80008296.0000\n",
      "Epoch 41/300\n",
      "37/37 [==============================] - 0s 893us/step - loss: 78393528.0000 - val_loss: 79565256.0000\n",
      "Epoch 42/300\n",
      "37/37 [==============================] - 0s 920us/step - loss: 77960928.0000 - val_loss: 79170744.0000\n",
      "Epoch 43/300\n",
      "37/37 [==============================] - 0s 974us/step - loss: 77542616.0000 - val_loss: 78766888.0000\n",
      "Epoch 44/300\n",
      "37/37 [==============================] - 0s 854us/step - loss: 77126832.0000 - val_loss: 78365848.0000\n",
      "Epoch 45/300\n",
      "37/37 [==============================] - 0s 883us/step - loss: 76706736.0000 - val_loss: 77926264.0000\n",
      "Epoch 46/300\n",
      "37/37 [==============================] - 0s 866us/step - loss: 76298536.0000 - val_loss: 77511072.0000\n",
      "Epoch 47/300\n",
      "37/37 [==============================] - 0s 866us/step - loss: 75873056.0000 - val_loss: 77121080.0000\n",
      "Epoch 48/300\n",
      "37/37 [==============================] - 0s 839us/step - loss: 75455272.0000 - val_loss: 76690448.0000\n",
      "Epoch 49/300\n",
      "37/37 [==============================] - 0s 893us/step - loss: 75024784.0000 - val_loss: 76274680.0000\n",
      "Epoch 50/300\n",
      "37/37 [==============================] - 0s 920us/step - loss: 74614584.0000 - val_loss: 75859952.0000\n",
      "Epoch 51/300\n",
      "37/37 [==============================] - 0s 947us/step - loss: 74175976.0000 - val_loss: 75423320.0000\n",
      "Epoch 52/300\n",
      "37/37 [==============================] - 0s 974us/step - loss: 73747976.0000 - val_loss: 75020520.0000\n",
      "Epoch 53/300\n",
      "37/37 [==============================] - 0s 920us/step - loss: 73330968.0000 - val_loss: 74585760.0000\n",
      "Epoch 54/300\n",
      "37/37 [==============================] - 0s 866us/step - loss: 72899936.0000 - val_loss: 74160352.0000\n",
      "Epoch 55/300\n",
      "37/37 [==============================] - 0s 866us/step - loss: 72456936.0000 - val_loss: 73739920.0000\n",
      "Epoch 56/300\n",
      "37/37 [==============================] - 0s 839us/step - loss: 72025200.0000 - val_loss: 73289512.0000\n",
      "Epoch 57/300\n",
      "37/37 [==============================] - 0s 866us/step - loss: 71582160.0000 - val_loss: 72849224.0000\n",
      "Epoch 58/300\n",
      "37/37 [==============================] - 0s 866us/step - loss: 71149560.0000 - val_loss: 72409976.0000\n",
      "Epoch 59/300\n",
      "37/37 [==============================] - 0s 866us/step - loss: 70706904.0000 - val_loss: 71996368.0000\n",
      "Epoch 60/300\n",
      "37/37 [==============================] - 0s 839us/step - loss: 70254920.0000 - val_loss: 71531632.0000\n",
      "Epoch 61/300\n",
      "37/37 [==============================] - 0s 866us/step - loss: 69802848.0000 - val_loss: 71095880.0000\n",
      "Epoch 62/300\n",
      "37/37 [==============================] - 0s 866us/step - loss: 69346464.0000 - val_loss: 70654544.0000\n",
      "Epoch 63/300\n",
      "37/37 [==============================] - 0s 839us/step - loss: 68892168.0000 - val_loss: 70195712.0000\n",
      "Epoch 64/300\n",
      "37/37 [==============================] - 0s 866us/step - loss: 68429976.0000 - val_loss: 69707320.0000\n",
      "Epoch 65/300\n",
      "37/37 [==============================] - 0s 839us/step - loss: 67981408.0000 - val_loss: 69281360.0000\n",
      "Epoch 66/300\n",
      "37/37 [==============================] - 0s 893us/step - loss: 67479856.0000 - val_loss: 68794760.0000\n",
      "Epoch 67/300\n",
      "37/37 [==============================] - 0s 920us/step - loss: 67006528.0000 - val_loss: 68324704.0000\n",
      "Epoch 68/300\n",
      "37/37 [==============================] - 0s 866us/step - loss: 66522416.0000 - val_loss: 67837624.0000\n",
      "Epoch 69/300\n",
      "37/37 [==============================] - 0s 839us/step - loss: 66034700.0000 - val_loss: 67341000.0000\n",
      "Epoch 70/300\n",
      "37/37 [==============================] - 0s 839us/step - loss: 65541596.0000 - val_loss: 66873372.0000\n",
      "Epoch 71/300\n"
     ]
    },
    {
     "name": "stdout",
     "output_type": "stream",
     "text": [
      "37/37 [==============================] - 0s 830us/step - loss: 65051388.0000 - val_loss: 66378012.0000\n",
      "Epoch 72/300\n",
      "37/37 [==============================] - 0s 690us/step - loss: 64533884.0000 - val_loss: 65860388.0000\n",
      "Epoch 73/300\n",
      "37/37 [==============================] - 0s 916us/step - loss: 64039976.0000 - val_loss: 65328296.0000\n",
      "Epoch 74/300\n",
      "37/37 [==============================] - 0s 753us/step - loss: 63503676.0000 - val_loss: 64823772.0000\n",
      "Epoch 75/300\n",
      "37/37 [==============================] - 0s 748us/step - loss: 62985880.0000 - val_loss: 64308924.0000\n",
      "Epoch 76/300\n",
      "37/37 [==============================] - 0s 939us/step - loss: 62443768.0000 - val_loss: 63772008.0000\n",
      "Epoch 77/300\n",
      "37/37 [==============================] - 0s 749us/step - loss: 61904168.0000 - val_loss: 63236068.0000\n",
      "Epoch 78/300\n",
      "37/37 [==============================] - 0s 940us/step - loss: 61364552.0000 - val_loss: 62701992.0000\n",
      "Epoch 79/300\n",
      "37/37 [==============================] - 0s 751us/step - loss: 60799132.0000 - val_loss: 62109380.0000\n",
      "Epoch 80/300\n",
      "37/37 [==============================] - 0s 516us/step - loss: 60230508.0000 - val_loss: 61550164.0000\n",
      "Epoch 81/300\n",
      "37/37 [==============================] - 0s 751us/step - loss: 59650416.0000 - val_loss: 60998392.0000\n",
      "Epoch 82/300\n",
      "37/37 [==============================] - 0s 890us/step - loss: 59078404.0000 - val_loss: 60377344.0000\n",
      "Epoch 83/300\n",
      "37/37 [==============================] - 0s 812us/step - loss: 58480916.0000 - val_loss: 59802456.0000\n",
      "Epoch 84/300\n",
      "37/37 [==============================] - 0s 866us/step - loss: 57873640.0000 - val_loss: 59173688.0000\n",
      "Epoch 85/300\n",
      "37/37 [==============================] - 0s 976us/step - loss: 57245668.0000 - val_loss: 58579244.0000\n",
      "Epoch 86/300\n",
      "37/37 [==============================] - 0s 893us/step - loss: 56617760.0000 - val_loss: 57909984.0000\n",
      "Epoch 87/300\n",
      "37/37 [==============================] - 0s 920us/step - loss: 55981480.0000 - val_loss: 57289964.0000\n",
      "Epoch 88/300\n",
      "37/37 [==============================] - 0s 920us/step - loss: 55325576.0000 - val_loss: 56631860.0000\n",
      "Epoch 89/300\n",
      "37/37 [==============================] - 0s 812us/step - loss: 54691420.0000 - val_loss: 55970704.0000\n",
      "Epoch 90/300\n",
      "37/37 [==============================] - 0s 866us/step - loss: 53994044.0000 - val_loss: 55283908.0000\n",
      "Epoch 91/300\n",
      "37/37 [==============================] - 0s 839us/step - loss: 53316636.0000 - val_loss: 54592540.0000\n",
      "Epoch 92/300\n",
      "37/37 [==============================] - 0s 839us/step - loss: 52619608.0000 - val_loss: 53915708.0000\n",
      "Epoch 93/300\n",
      "37/37 [==============================] - 0s 839us/step - loss: 51919760.0000 - val_loss: 53196132.0000\n",
      "Epoch 94/300\n",
      "37/37 [==============================] - 0s 839us/step - loss: 51213368.0000 - val_loss: 52458368.0000\n",
      "Epoch 95/300\n",
      "37/37 [==============================] - 0s 839us/step - loss: 50490832.0000 - val_loss: 51737516.0000\n",
      "Epoch 96/300\n",
      "37/37 [==============================] - 0s 839us/step - loss: 49760428.0000 - val_loss: 50990952.0000\n",
      "Epoch 97/300\n",
      "37/37 [==============================] - 0s 866us/step - loss: 49017952.0000 - val_loss: 50267928.0000\n",
      "Epoch 98/300\n",
      "37/37 [==============================] - 0s 839us/step - loss: 48268088.0000 - val_loss: 49469496.0000\n",
      "Epoch 99/300\n",
      "37/37 [==============================] - 0s 893us/step - loss: 47495680.0000 - val_loss: 48735236.0000\n",
      "Epoch 100/300\n",
      "37/37 [==============================] - 0s 866us/step - loss: 46765328.0000 - val_loss: 47938652.0000\n",
      "Epoch 101/300\n",
      "37/37 [==============================] - 0s 893us/step - loss: 45993508.0000 - val_loss: 47160276.0000\n",
      "Epoch 102/300\n",
      "37/37 [==============================] - 0s 866us/step - loss: 45236608.0000 - val_loss: 46372712.0000\n",
      "Epoch 103/300\n",
      "37/37 [==============================] - 0s 974us/step - loss: 44455072.0000 - val_loss: 45593112.0000\n",
      "Epoch 104/300\n",
      "37/37 [==============================] - 0s 866us/step - loss: 43689724.0000 - val_loss: 44816284.0000\n",
      "Epoch 105/300\n",
      "37/37 [==============================] - 0s 812us/step - loss: 42928204.0000 - val_loss: 44040384.0000\n",
      "Epoch 106/300\n",
      "37/37 [==============================] - 0s 804us/step - loss: 42164856.0000 - val_loss: 43243160.0000\n",
      "Epoch 107/300\n",
      "37/37 [==============================] - 0s 778us/step - loss: 41385520.0000 - val_loss: 42466244.0000\n",
      "Epoch 108/300\n",
      "37/37 [==============================] - 0s 807us/step - loss: 40630468.0000 - val_loss: 41688340.0000\n",
      "Epoch 109/300\n",
      "37/37 [==============================] - 0s 832us/step - loss: 39870948.0000 - val_loss: 40901048.0000\n",
      "Epoch 110/300\n",
      "37/37 [==============================] - 0s 858us/step - loss: 39109880.0000 - val_loss: 40137204.0000\n",
      "Epoch 111/300\n",
      "37/37 [==============================] - 0s 832us/step - loss: 38379712.0000 - val_loss: 39372420.0000\n",
      "Epoch 112/300\n",
      "37/37 [==============================] - 0s 563us/step - loss: 37648796.0000 - val_loss: 38623576.0000\n",
      "Epoch 113/300\n",
      "37/37 [==============================] - 0s 986us/step - loss: 36935328.0000 - val_loss: 37890344.0000\n",
      "Epoch 114/300\n",
      "37/37 [==============================] - 0s 976us/step - loss: 36241380.0000 - val_loss: 37186284.0000\n",
      "Epoch 115/300\n",
      "37/37 [==============================] - 0s 812us/step - loss: 35572932.0000 - val_loss: 36492652.0000\n",
      "Epoch 116/300\n",
      "37/37 [==============================] - 0s 839us/step - loss: 34915896.0000 - val_loss: 35827768.0000\n",
      "Epoch 117/300\n",
      "37/37 [==============================] - 0s 839us/step - loss: 34288228.0000 - val_loss: 35195052.0000\n",
      "Epoch 118/300\n",
      "37/37 [==============================] - 0s 839us/step - loss: 33679340.0000 - val_loss: 34554892.0000\n",
      "Epoch 119/300\n",
      "37/37 [==============================] - 0s 839us/step - loss: 33092824.0000 - val_loss: 33969908.0000\n",
      "Epoch 120/300\n",
      "37/37 [==============================] - 0s 839us/step - loss: 32501156.0000 - val_loss: 33382666.0000\n",
      "Epoch 121/300\n",
      "37/37 [==============================] - 0s 774us/step - loss: 31944906.0000 - val_loss: 32805288.0000\n",
      "Epoch 122/300\n",
      "37/37 [==============================] - 0s 752us/step - loss: 31404012.0000 - val_loss: 32280398.0000\n",
      "Epoch 123/300\n",
      "37/37 [==============================] - 0s 936us/step - loss: 30878400.0000 - val_loss: 31750998.0000\n",
      "Epoch 124/300\n",
      "37/37 [==============================] - 0s 754us/step - loss: 30379992.0000 - val_loss: 31259332.0000\n",
      "Epoch 125/300\n",
      "37/37 [==============================] - 0s 963us/step - loss: 29912154.0000 - val_loss: 30809712.0000\n",
      "Epoch 126/300\n",
      "37/37 [==============================] - 0s 740us/step - loss: 29479142.0000 - val_loss: 30331350.0000\n",
      "Epoch 127/300\n",
      "37/37 [==============================] - 0s 922us/step - loss: 29029040.0000 - val_loss: 29904940.0000\n",
      "Epoch 128/300\n",
      "37/37 [==============================] - 0s 939us/step - loss: 28630212.0000 - val_loss: 29502104.0000\n",
      "Epoch 129/300\n",
      "37/37 [==============================] - 0s 937us/step - loss: 28225044.0000 - val_loss: 29097598.0000\n",
      "Epoch 130/300\n",
      "37/37 [==============================] - 0s 757us/step - loss: 27842978.0000 - val_loss: 28701116.0000\n",
      "Epoch 131/300\n",
      "37/37 [==============================] - 0s 932us/step - loss: 27442946.0000 - val_loss: 28340398.0000\n",
      "Epoch 132/300\n",
      "37/37 [==============================] - 0s 751us/step - loss: 27089654.0000 - val_loss: 28017870.0000\n",
      "Epoch 133/300\n",
      "37/37 [==============================] - 0s 938us/step - loss: 26768680.0000 - val_loss: 27669104.0000\n",
      "Epoch 134/300\n",
      "37/37 [==============================] - 0s 806us/step - loss: 26457362.0000 - val_loss: 27393584.0000\n",
      "Epoch 135/300\n",
      "37/37 [==============================] - 0s 883us/step - loss: 26179524.0000 - val_loss: 27117744.0000\n",
      "Epoch 136/300\n",
      "37/37 [==============================] - 0s 751us/step - loss: 25945280.0000 - val_loss: 26877410.0000\n",
      "Epoch 137/300\n",
      "37/37 [==============================] - 0s 938us/step - loss: 25711504.0000 - val_loss: 26633358.0000\n",
      "Epoch 138/300\n",
      "37/37 [==============================] - 0s 760us/step - loss: 25493882.0000 - val_loss: 26490536.0000\n",
      "Epoch 139/300\n",
      "37/37 [==============================] - 0s 930us/step - loss: 25277282.0000 - val_loss: 26275186.0000\n",
      "Epoch 140/300\n",
      "37/37 [==============================] - 0s 756us/step - loss: 25065532.0000 - val_loss: 26001054.0000\n",
      "Epoch 141/300\n"
     ]
    },
    {
     "name": "stdout",
     "output_type": "stream",
     "text": [
      "37/37 [==============================] - 0s 537us/step - loss: 24859818.0000 - val_loss: 25815048.0000\n",
      "Epoch 142/300\n",
      "37/37 [==============================] - 0s 709us/step - loss: 24672670.0000 - val_loss: 25631484.0000\n",
      "Epoch 143/300\n",
      "37/37 [==============================] - 0s 504us/step - loss: 24522458.0000 - val_loss: 25461706.0000\n",
      "Epoch 144/300\n",
      "37/37 [==============================] - 0s 751us/step - loss: 24336262.0000 - val_loss: 25309900.0000\n",
      "Epoch 145/300\n",
      "37/37 [==============================] - 0s 756us/step - loss: 24179418.0000 - val_loss: 25131932.0000\n",
      "Epoch 146/300\n",
      "37/37 [==============================] - 0s 934us/step - loss: 24025658.0000 - val_loss: 25069452.0000\n",
      "Epoch 147/300\n",
      "37/37 [==============================] - 0s 758us/step - loss: 23912546.0000 - val_loss: 24941802.0000\n",
      "Epoch 148/300\n",
      "37/37 [==============================] - 0s 931us/step - loss: 23769618.0000 - val_loss: 24736888.0000\n",
      "Epoch 149/300\n",
      "37/37 [==============================] - 0s 769us/step - loss: 23617356.0000 - val_loss: 24612224.0000\n",
      "Epoch 150/300\n",
      "37/37 [==============================] - 0s 920us/step - loss: 23475692.0000 - val_loss: 24463032.0000\n",
      "Epoch 151/300\n",
      "37/37 [==============================] - 0s 755us/step - loss: 23332984.0000 - val_loss: 24315682.0000\n",
      "Epoch 152/300\n",
      "37/37 [==============================] - ETA: 0s - loss: 22690366.00 - 0s 996us/step - loss: 23208722.0000 - val_loss: 24197770.0000\n",
      "Epoch 153/300\n",
      "37/37 [==============================] - 0s 839us/step - loss: 23086758.0000 - val_loss: 24092222.0000\n",
      "Epoch 154/300\n",
      "37/37 [==============================] - 0s 839us/step - loss: 22969462.0000 - val_loss: 23979452.0000\n",
      "Epoch 155/300\n",
      "37/37 [==============================] - 0s 839us/step - loss: 22854614.0000 - val_loss: 23872708.0000\n",
      "Epoch 156/300\n",
      "37/37 [==============================] - 0s 812us/step - loss: 22749806.0000 - val_loss: 23794532.0000\n",
      "Epoch 157/300\n",
      "37/37 [==============================] - 0s 812us/step - loss: 22643682.0000 - val_loss: 23665290.0000\n",
      "Epoch 158/300\n",
      "37/37 [==============================] - 0s 812us/step - loss: 22556052.0000 - val_loss: 23566976.0000\n",
      "Epoch 159/300\n",
      "37/37 [==============================] - 0s 839us/step - loss: 22443752.0000 - val_loss: 23498548.0000\n",
      "Epoch 160/300\n",
      "37/37 [==============================] - 0s 812us/step - loss: 22371954.0000 - val_loss: 23393034.0000\n",
      "Epoch 161/300\n",
      "37/37 [==============================] - 0s 866us/step - loss: 22276898.0000 - val_loss: 23313524.0000\n",
      "Epoch 162/300\n",
      "37/37 [==============================] - 0s 866us/step - loss: 22170478.0000 - val_loss: 23235436.0000\n",
      "Epoch 163/300\n",
      "37/37 [==============================] - 0s 839us/step - loss: 22086238.0000 - val_loss: 23172796.0000\n",
      "Epoch 164/300\n",
      "37/37 [==============================] - 0s 839us/step - loss: 22011768.0000 - val_loss: 23090700.0000\n",
      "Epoch 165/300\n",
      "37/37 [==============================] - 0s 839us/step - loss: 21944778.0000 - val_loss: 23106802.0000\n",
      "Epoch 166/300\n",
      "37/37 [==============================] - 0s 839us/step - loss: 21912834.0000 - val_loss: 23141024.0000\n",
      "Epoch 167/300\n",
      "37/37 [==============================] - 0s 719us/step - loss: 21835220.0000 - val_loss: 22923028.0000\n",
      "Epoch 168/300\n",
      "37/37 [==============================] - 0s 780us/step - loss: 21723120.0000 - val_loss: 22859800.0000\n",
      "Epoch 169/300\n",
      "37/37 [==============================] - 0s 1ms/step - loss: 21679618.0000 - val_loss: 22807934.0000\n",
      "Epoch 170/300\n",
      "37/37 [==============================] - 0s 403us/step - loss: 21610146.0000 - val_loss: 22783860.0000\n",
      "Epoch 171/300\n",
      "37/37 [==============================] - 0s 753us/step - loss: 21556458.0000 - val_loss: 22723742.0000\n",
      "Epoch 172/300\n",
      "37/37 [==============================] - 0s 939us/step - loss: 21509438.0000 - val_loss: 22674060.0000\n",
      "Epoch 173/300\n",
      "37/37 [==============================] - 0s 758us/step - loss: 21448760.0000 - val_loss: 22636058.0000\n",
      "Epoch 174/300\n",
      "37/37 [==============================] - 0s 929us/step - loss: 21409300.0000 - val_loss: 22596566.0000\n",
      "Epoch 175/300\n",
      "37/37 [==============================] - 0s 751us/step - loss: 21339882.0000 - val_loss: 22548290.0000\n",
      "Epoch 176/300\n",
      "37/37 [==============================] - 0s 516us/step - loss: 21293960.0000 - val_loss: 22536442.0000\n",
      "Epoch 177/300\n",
      "37/37 [==============================] - 0s 842us/step - loss: 21284672.0000 - val_loss: 22481324.0000\n",
      "Epoch 178/300\n",
      "37/37 [==============================] - 0s 839us/step - loss: 21219470.0000 - val_loss: 22442780.0000\n",
      "Epoch 179/300\n",
      "37/37 [==============================] - 0s 812us/step - loss: 21188580.0000 - val_loss: 22449488.0000\n",
      "Epoch 180/300\n",
      "37/37 [==============================] - 0s 839us/step - loss: 21132794.0000 - val_loss: 22374676.0000\n",
      "Epoch 181/300\n",
      "37/37 [==============================] - 0s 839us/step - loss: 21089296.0000 - val_loss: 22352198.0000\n",
      "Epoch 182/300\n",
      "37/37 [==============================] - 0s 812us/step - loss: 21052734.0000 - val_loss: 22300960.0000\n",
      "Epoch 183/300\n",
      "37/37 [==============================] - 0s 812us/step - loss: 21019492.0000 - val_loss: 22268022.0000\n",
      "Epoch 184/300\n",
      "37/37 [==============================] - 0s 695us/step - loss: 21018506.0000 - val_loss: 22271720.0000\n",
      "Epoch 185/300\n",
      "37/37 [==============================] - 0s 938us/step - loss: 20941854.0000 - val_loss: 22217870.0000\n",
      "Epoch 186/300\n",
      "37/37 [==============================] - 0s 758us/step - loss: 20919628.0000 - val_loss: 22178382.0000\n",
      "Epoch 187/300\n",
      "37/37 [==============================] - 0s 931us/step - loss: 20869612.0000 - val_loss: 22232608.0000\n",
      "Epoch 188/300\n",
      "37/37 [==============================] - 0s 779us/step - loss: 20874510.0000 - val_loss: 22116874.0000\n",
      "Epoch 189/300\n",
      "37/37 [==============================] - 0s 910us/step - loss: 20793466.0000 - val_loss: 22120414.0000\n",
      "Epoch 190/300\n",
      "37/37 [==============================] - 0s 752us/step - loss: 20783032.0000 - val_loss: 22062468.0000\n",
      "Epoch 191/300\n",
      "37/37 [==============================] - 0s 937us/step - loss: 20725218.0000 - val_loss: 22039066.0000\n",
      "Epoch 192/300\n",
      "37/37 [==============================] - 0s 751us/step - loss: 20692434.0000 - val_loss: 22008258.0000\n",
      "Epoch 193/300\n",
      "37/37 [==============================] - 0s 516us/step - loss: 20665360.0000 - val_loss: 21979844.0000\n",
      "Epoch 194/300\n",
      "37/37 [==============================] - 0s 751us/step - loss: 20651986.0000 - val_loss: 21986274.0000\n",
      "Epoch 195/300\n",
      "37/37 [==============================] - 0s 770us/step - loss: 20598204.0000 - val_loss: 21947290.0000\n",
      "Epoch 196/300\n",
      "37/37 [==============================] - 0s 920us/step - loss: 20581174.0000 - val_loss: 21909250.0000\n",
      "Epoch 197/300\n",
      "37/37 [==============================] - 0s 750us/step - loss: 20545602.0000 - val_loss: 21895980.0000\n",
      "Epoch 198/300\n",
      "37/37 [==============================] - 0s 941us/step - loss: 20519594.0000 - val_loss: 21851368.0000\n",
      "Epoch 199/300\n",
      "37/37 [==============================] - 0s 752us/step - loss: 20493072.0000 - val_loss: 21842958.0000\n",
      "Epoch 200/300\n",
      "37/37 [==============================] - 0s 936us/step - loss: 20457108.0000 - val_loss: 21838086.0000\n",
      "Epoch 201/300\n",
      "37/37 [==============================] - 0s 750us/step - loss: 20435072.0000 - val_loss: 21793038.0000\n",
      "Epoch 202/300\n",
      "37/37 [==============================] - 0s 937us/step - loss: 20410072.0000 - val_loss: 21773142.0000\n",
      "Epoch 203/300\n",
      "37/37 [==============================] - 0s 758us/step - loss: 20390522.0000 - val_loss: 21813618.0000\n",
      "Epoch 204/300\n",
      "37/37 [==============================] - 0s 931us/step - loss: 20423434.0000 - val_loss: 21718184.0000\n",
      "Epoch 205/300\n",
      "37/37 [==============================] - 0s 751us/step - loss: 20332590.0000 - val_loss: 21725144.0000\n",
      "Epoch 206/300\n",
      "37/37 [==============================] - 0s 939us/step - loss: 20314360.0000 - val_loss: 21687180.0000\n",
      "Epoch 207/300\n",
      "37/37 [==============================] - 0s 750us/step - loss: 20277638.0000 - val_loss: 21714992.0000\n",
      "Epoch 208/300\n",
      "37/37 [==============================] - 0s 754us/step - loss: 20288306.0000 - val_loss: 21661394.0000\n",
      "Epoch 209/300\n",
      "37/37 [==============================] - 0s 936us/step - loss: 20259774.0000 - val_loss: 21626988.0000\n",
      "Epoch 210/300\n",
      "37/37 [==============================] - 0s 937us/step - loss: 20216506.0000 - val_loss: 21624672.0000\n"
     ]
    },
    {
     "name": "stdout",
     "output_type": "stream",
     "text": [
      "Epoch 211/300\n",
      "37/37 [==============================] - 0s 753us/step - loss: 20201210.0000 - val_loss: 21599676.0000\n",
      "Epoch 212/300\n",
      "37/37 [==============================] - 0s 938us/step - loss: 20177994.0000 - val_loss: 21580388.0000\n",
      "Epoch 213/300\n",
      "37/37 [==============================] - 0s 751us/step - loss: 20161794.0000 - val_loss: 21563830.0000\n",
      "Epoch 214/300\n",
      "37/37 [==============================] - 0s 516us/step - loss: 20162866.0000 - val_loss: 21558714.0000\n",
      "Epoch 215/300\n",
      "37/37 [==============================] - 0s 835us/step - loss: 20158940.0000 - val_loss: 21539622.0000\n",
      "Epoch 216/300\n",
      "37/37 [==============================] - 0s 866us/step - loss: 20125180.0000 - val_loss: 21524846.0000\n",
      "Epoch 217/300\n",
      "37/37 [==============================] - 0s 893us/step - loss: 20096254.0000 - val_loss: 21537266.0000\n",
      "Epoch 218/300\n",
      "37/37 [==============================] - 0s 812us/step - loss: 20082040.0000 - val_loss: 21507798.0000\n",
      "Epoch 219/300\n",
      "37/37 [==============================] - 0s 839us/step - loss: 20053460.0000 - val_loss: 21507018.0000\n",
      "Epoch 220/300\n",
      "37/37 [==============================] - 0s 893us/step - loss: 20036254.0000 - val_loss: 21471992.0000\n",
      "Epoch 221/300\n",
      "37/37 [==============================] - 0s 866us/step - loss: 20015630.0000 - val_loss: 21467346.0000\n",
      "Epoch 222/300\n",
      "37/37 [==============================] - 0s 893us/step - loss: 20003414.0000 - val_loss: 21499056.0000\n",
      "Epoch 223/300\n",
      "37/37 [==============================] - 0s 866us/step - loss: 20008288.0000 - val_loss: 21445186.0000\n",
      "Epoch 224/300\n",
      "37/37 [==============================] - ETA: 0s - loss: 19822586.00 - 0s 839us/step - loss: 19954558.0000 - val_loss: 21423680.0000\n",
      "Epoch 225/300\n",
      "37/37 [==============================] - 0s 866us/step - loss: 19949836.0000 - val_loss: 21410462.0000\n",
      "Epoch 226/300\n",
      "37/37 [==============================] - 0s 839us/step - loss: 19958108.0000 - val_loss: 21405328.0000\n",
      "Epoch 227/300\n",
      "37/37 [==============================] - 0s 839us/step - loss: 19921454.0000 - val_loss: 21387920.0000\n",
      "Epoch 228/300\n",
      "37/37 [==============================] - 0s 866us/step - loss: 19889110.0000 - val_loss: 21365166.0000\n",
      "Epoch 229/300\n",
      "37/37 [==============================] - 0s 839us/step - loss: 19911998.0000 - val_loss: 21400204.0000\n",
      "Epoch 230/300\n",
      "37/37 [==============================] - 0s 801us/step - loss: 19863924.0000 - val_loss: 21357062.0000\n",
      "Epoch 231/300\n",
      "37/37 [==============================] - 0s 884us/step - loss: 19853058.0000 - val_loss: 21339258.0000\n",
      "Epoch 232/300\n",
      "37/37 [==============================] - 0s 893us/step - loss: 19839596.0000 - val_loss: 21316774.0000\n",
      "Epoch 233/300\n",
      "37/37 [==============================] - 0s 920us/step - loss: 19837814.0000 - val_loss: 21302456.0000\n",
      "Epoch 234/300\n",
      "37/37 [==============================] - 0s 893us/step - loss: 19784936.0000 - val_loss: 21359062.0000\n",
      "Epoch 235/300\n",
      "37/37 [==============================] - 0s 866us/step - loss: 19784018.0000 - val_loss: 21272912.0000\n",
      "Epoch 236/300\n",
      "37/37 [==============================] - 0s 866us/step - loss: 19834522.0000 - val_loss: 21290216.0000\n",
      "Epoch 237/300\n",
      "37/37 [==============================] - 0s 866us/step - loss: 19765316.0000 - val_loss: 21260618.0000\n",
      "Epoch 238/300\n",
      "37/37 [==============================] - 0s 893us/step - loss: 19747470.0000 - val_loss: 21242072.0000\n",
      "Epoch 239/300\n",
      "37/37 [==============================] - 0s 920us/step - loss: 19719278.0000 - val_loss: 21230462.0000\n",
      "Epoch 240/300\n",
      "37/37 [==============================] - 0s 893us/step - loss: 19726004.0000 - val_loss: 21210380.0000\n",
      "Epoch 241/300\n",
      "37/37 [==============================] - 0s 920us/step - loss: 19694772.0000 - val_loss: 21206822.0000\n",
      "Epoch 242/300\n",
      "37/37 [==============================] - 0s 893us/step - loss: 19712302.0000 - val_loss: 21202306.0000\n",
      "Epoch 243/300\n",
      "37/37 [==============================] - 0s 893us/step - loss: 19679682.0000 - val_loss: 21199458.0000\n",
      "Epoch 244/300\n",
      "37/37 [==============================] - 0s 866us/step - loss: 19722604.0000 - val_loss: 21181252.0000\n",
      "Epoch 245/300\n",
      "37/37 [==============================] - 0s 859us/step - loss: 19649560.0000 - val_loss: 21144816.0000\n",
      "Epoch 246/300\n",
      "37/37 [==============================] - 0s 829us/step - loss: 19625608.0000 - val_loss: 21124372.0000\n",
      "Epoch 247/300\n",
      "37/37 [==============================] - 0s 860us/step - loss: 19625390.0000 - val_loss: 21112384.0000\n",
      "Epoch 248/300\n",
      "37/37 [==============================] - 0s 831us/step - loss: 19619804.0000 - val_loss: 21101268.0000\n",
      "Epoch 249/300\n",
      "37/37 [==============================] - 0s 858us/step - loss: 19608996.0000 - val_loss: 21083128.0000\n",
      "Epoch 250/300\n",
      "37/37 [==============================] - 0s 830us/step - loss: 19569952.0000 - val_loss: 21079040.0000\n",
      "Epoch 251/300\n",
      "37/37 [==============================] - 0s 829us/step - loss: 19561330.0000 - val_loss: 21081204.0000\n",
      "Epoch 252/300\n",
      "37/37 [==============================] - 0s 866us/step - loss: 19554054.0000 - val_loss: 21046590.0000\n",
      "Epoch 253/300\n",
      "37/37 [==============================] - 0s 866us/step - loss: 19549636.0000 - val_loss: 21035020.0000\n",
      "Epoch 254/300\n",
      "37/37 [==============================] - 0s 839us/step - loss: 19522882.0000 - val_loss: 21034234.0000\n",
      "Epoch 255/300\n",
      "37/37 [==============================] - 0s 839us/step - loss: 19518462.0000 - val_loss: 21009394.0000\n",
      "Epoch 256/300\n",
      "37/37 [==============================] - 0s 839us/step - loss: 19515090.0000 - val_loss: 20997194.0000\n",
      "Epoch 257/300\n",
      "37/37 [==============================] - 0s 819us/step - loss: 19493888.0000 - val_loss: 20982844.0000\n",
      "Epoch 258/300\n",
      "37/37 [==============================] - 0s 859us/step - loss: 19488836.0000 - val_loss: 20972408.0000\n",
      "Epoch 259/300\n",
      "37/37 [==============================] - 0s 887us/step - loss: 19463344.0000 - val_loss: 20967258.0000\n",
      "Epoch 260/300\n",
      "37/37 [==============================] - 0s 855us/step - loss: 19456906.0000 - val_loss: 20938882.0000\n",
      "Epoch 261/300\n",
      "37/37 [==============================] - 0s 879us/step - loss: 19465454.0000 - val_loss: 20953288.0000\n",
      "Epoch 262/300\n",
      "37/37 [==============================] - 0s 858us/step - loss: 19426248.0000 - val_loss: 20922190.0000\n",
      "Epoch 263/300\n",
      "37/37 [==============================] - 0s 887us/step - loss: 19419082.0000 - val_loss: 20909228.0000\n",
      "Epoch 264/300\n",
      "37/37 [==============================] - 0s 882us/step - loss: 19405502.0000 - val_loss: 20873888.0000\n",
      "Epoch 265/300\n",
      "37/37 [==============================] - 0s 882us/step - loss: 19397008.0000 - val_loss: 20905696.0000\n",
      "Epoch 266/300\n",
      "37/37 [==============================] - 0s 920us/step - loss: 19402440.0000 - val_loss: 20886748.0000\n",
      "Epoch 267/300\n",
      "37/37 [==============================] - 0s 866us/step - loss: 19367818.0000 - val_loss: 20832378.0000\n",
      "Epoch 268/300\n",
      "37/37 [==============================] - 0s 920us/step - loss: 19361648.0000 - val_loss: 20827522.0000\n",
      "Epoch 269/300\n",
      "37/37 [==============================] - 0s 893us/step - loss: 19326304.0000 - val_loss: 20859028.0000\n",
      "Epoch 270/300\n",
      "37/37 [==============================] - 0s 920us/step - loss: 19323824.0000 - val_loss: 20793372.0000\n",
      "Epoch 271/300\n",
      "37/37 [==============================] - 0s 920us/step - loss: 19302524.0000 - val_loss: 20775708.0000\n",
      "Epoch 272/300\n",
      "37/37 [==============================] - 0s 893us/step - loss: 19297468.0000 - val_loss: 20768622.0000\n",
      "Epoch 273/300\n",
      "37/37 [==============================] - 0s 866us/step - loss: 19277008.0000 - val_loss: 20771314.0000\n",
      "Epoch 274/300\n",
      "37/37 [==============================] - 0s 872us/step - loss: 19281356.0000 - val_loss: 20733894.0000\n",
      "Epoch 275/300\n",
      "37/37 [==============================] - 0s 839us/step - loss: 19261496.0000 - val_loss: 20763606.0000\n",
      "Epoch 276/300\n",
      "37/37 [==============================] - 0s 839us/step - loss: 19258400.0000 - val_loss: 20728202.0000\n",
      "Epoch 277/300\n",
      "37/37 [==============================] - 0s 839us/step - loss: 19275372.0000 - val_loss: 20741458.0000\n",
      "Epoch 278/300\n",
      "37/37 [==============================] - 0s 812us/step - loss: 19255398.0000 - val_loss: 20709088.0000\n",
      "Epoch 279/300\n",
      "37/37 [==============================] - 0s 839us/step - loss: 19213620.0000 - val_loss: 20676678.0000\n",
      "Epoch 280/300\n",
      "37/37 [==============================] - 0s 839us/step - loss: 19202604.0000 - val_loss: 20687498.0000\n"
     ]
    },
    {
     "name": "stdout",
     "output_type": "stream",
     "text": [
      "Epoch 281/300\n",
      "37/37 [==============================] - 0s 812us/step - loss: 19191458.0000 - val_loss: 20670558.0000\n",
      "Epoch 282/300\n",
      "37/37 [==============================] - 0s 812us/step - loss: 19175306.0000 - val_loss: 20640932.0000\n",
      "Epoch 283/300\n",
      "37/37 [==============================] - 0s 866us/step - loss: 19166596.0000 - val_loss: 20678400.0000\n",
      "Epoch 284/300\n",
      "37/37 [==============================] - 0s 812us/step - loss: 19180042.0000 - val_loss: 20620612.0000\n",
      "Epoch 285/300\n",
      "37/37 [==============================] - 0s 812us/step - loss: 19143014.0000 - val_loss: 20624696.0000\n",
      "Epoch 286/300\n",
      "37/37 [==============================] - 0s 784us/step - loss: 19147414.0000 - val_loss: 20597264.0000\n",
      "Epoch 287/300\n",
      "37/37 [==============================] - 0s 839us/step - loss: 19128048.0000 - val_loss: 20585338.0000\n",
      "Epoch 288/300\n",
      "37/37 [==============================] - 0s 812us/step - loss: 19109184.0000 - val_loss: 20618768.0000\n",
      "Epoch 289/300\n",
      "37/37 [==============================] - 0s 812us/step - loss: 19111452.0000 - val_loss: 20577696.0000\n",
      "Epoch 290/300\n",
      "37/37 [==============================] - 0s 850us/step - loss: 19109668.0000 - val_loss: 20553388.0000\n",
      "Epoch 291/300\n",
      "37/37 [==============================] - 0s 670us/step - loss: 19070364.0000 - val_loss: 20549952.0000\n",
      "Epoch 292/300\n",
      "37/37 [==============================] - 0s 961us/step - loss: 19069494.0000 - val_loss: 20561644.0000\n",
      "Epoch 293/300\n",
      "37/37 [==============================] - 0s 750us/step - loss: 19066860.0000 - val_loss: 20527792.0000\n",
      "Epoch 294/300\n",
      "37/37 [==============================] - 0s 940us/step - loss: 19043654.0000 - val_loss: 20511848.0000\n",
      "Epoch 295/300\n",
      "37/37 [==============================] - 0s 750us/step - loss: 19062594.0000 - val_loss: 20492670.0000\n",
      "Epoch 296/300\n",
      "37/37 [==============================] - 0s 949us/step - loss: 19047682.0000 - val_loss: 20479988.0000\n",
      "Epoch 297/300\n",
      "37/37 [==============================] - 0s 720us/step - loss: 19017758.0000 - val_loss: 20478118.0000\n",
      "Epoch 298/300\n",
      "37/37 [==============================] - 0s 932us/step - loss: 19002016.0000 - val_loss: 20460228.0000\n",
      "Epoch 299/300\n",
      "37/37 [==============================] - 0s 750us/step - loss: 18994174.0000 - val_loss: 20446846.0000\n",
      "Epoch 300/300\n",
      "37/37 [==============================] - 0s 976us/step - loss: 19010894.0000 - val_loss: 20440726.0000\n"
     ]
    },
    {
     "data": {
      "text/plain": [
       "<tensorflow.python.keras.callbacks.History at 0x126dcfaa1c0>"
      ]
     },
     "execution_count": 39,
     "metadata": {},
     "output_type": "execute_result"
    }
   ],
   "source": [
    "model.fit(x = X_train, y = y_train,validation_data=(X_test,y_test),batch_size = 250,epochs = 300)"
   ]
  },
  {
   "cell_type": "code",
   "execution_count": 40,
   "id": "dcbe61f2",
   "metadata": {},
   "outputs": [],
   "source": [
    "kayipVerisi = pd.DataFrame(model.history.history)"
   ]
  },
  {
   "cell_type": "code",
   "execution_count": 41,
   "id": "45fbfb12",
   "metadata": {},
   "outputs": [
    {
     "data": {
      "text/html": [
       "<div>\n",
       "<style scoped>\n",
       "    .dataframe tbody tr th:only-of-type {\n",
       "        vertical-align: middle;\n",
       "    }\n",
       "\n",
       "    .dataframe tbody tr th {\n",
       "        vertical-align: top;\n",
       "    }\n",
       "\n",
       "    .dataframe thead th {\n",
       "        text-align: right;\n",
       "    }\n",
       "</style>\n",
       "<table border=\"1\" class=\"dataframe\">\n",
       "  <thead>\n",
       "    <tr style=\"text-align: right;\">\n",
       "      <th></th>\n",
       "      <th>loss</th>\n",
       "      <th>val_loss</th>\n",
       "    </tr>\n",
       "  </thead>\n",
       "  <tbody>\n",
       "    <tr>\n",
       "      <th>0</th>\n",
       "      <td>672153152.0</td>\n",
       "      <td>688112576.0</td>\n",
       "    </tr>\n",
       "    <tr>\n",
       "      <th>1</th>\n",
       "      <td>672143168.0</td>\n",
       "      <td>688101888.0</td>\n",
       "    </tr>\n",
       "    <tr>\n",
       "      <th>2</th>\n",
       "      <td>672118528.0</td>\n",
       "      <td>688052736.0</td>\n",
       "    </tr>\n",
       "    <tr>\n",
       "      <th>3</th>\n",
       "      <td>672025152.0</td>\n",
       "      <td>687882752.0</td>\n",
       "    </tr>\n",
       "    <tr>\n",
       "      <th>4</th>\n",
       "      <td>671707776.0</td>\n",
       "      <td>687324608.0</td>\n",
       "    </tr>\n",
       "  </tbody>\n",
       "</table>\n",
       "</div>"
      ],
      "text/plain": [
       "          loss     val_loss\n",
       "0  672153152.0  688112576.0\n",
       "1  672143168.0  688101888.0\n",
       "2  672118528.0  688052736.0\n",
       "3  672025152.0  687882752.0\n",
       "4  671707776.0  687324608.0"
      ]
     },
     "execution_count": 41,
     "metadata": {},
     "output_type": "execute_result"
    }
   ],
   "source": [
    "kayipVerisi.head()"
   ]
  },
  {
   "cell_type": "markdown",
   "id": "00d82901",
   "metadata": {},
   "source": [
    "## val_loss ve loss çizgisi sonlarda birbirinden ayrılırsa overfitting yapıyor diye yorumlayabiliriz."
   ]
  },
  {
   "cell_type": "code",
   "execution_count": 42,
   "id": "ecfae7d2",
   "metadata": {},
   "outputs": [
    {
     "data": {
      "text/plain": [
       "<AxesSubplot:>"
      ]
     },
     "execution_count": 42,
     "metadata": {},
     "output_type": "execute_result"
    },
    {
     "data": {
      "image/png": "[encoded data removed]",
      "text/plain": [
       "<Figure size 432x288 with 1 Axes>"
      ]
     },
     "metadata": {
      "needs_background": "light"
     },
     "output_type": "display_data"
    }
   ],
   "source": [
    "kayipVerisi.plot()"
   ]
  },
  {
   "cell_type": "code",
   "execution_count": 43,
   "id": "1f012885",
   "metadata": {},
   "outputs": [],
   "source": [
    "from sklearn.metrics import mean_absolute_error, mean_squared_error"
   ]
  },
  {
   "cell_type": "code",
   "execution_count": 44,
   "id": "65bea49f",
   "metadata": {},
   "outputs": [],
   "source": [
    "y_pred = model.predict(X_test)"
   ]
  },
  {
   "cell_type": "code",
   "execution_count": 45,
   "id": "ff671a6f",
   "metadata": {},
   "outputs": [
    {
     "data": {
      "text/plain": [
       "array([[22311.252],\n",
       "       [23417.908],\n",
       "       [24683.291],\n",
       "       ...,\n",
       "       [26087.771],\n",
       "       [13192.845],\n",
       "       [24521.201]], dtype=float32)"
      ]
     },
     "execution_count": 45,
     "metadata": {},
     "output_type": "execute_result"
    }
   ],
   "source": [
    "y_pred"
   ]
  },
  {
   "cell_type": "code",
   "execution_count": 46,
   "id": "63a8ac77",
   "metadata": {},
   "outputs": [
    {
     "data": {
      "text/plain": [
       "3205.54439255908"
      ]
     },
     "execution_count": 46,
     "metadata": {},
     "output_type": "execute_result"
    }
   ],
   "source": [
    "mean_absolute_error(y_test,y_pred)"
   ]
  },
  {
   "cell_type": "code",
   "execution_count": 47,
   "id": "15fafeb8",
   "metadata": {},
   "outputs": [
    {
     "data": {
      "text/html": [
       "<div>\n",
       "<style scoped>\n",
       "    .dataframe tbody tr th:only-of-type {\n",
       "        vertical-align: middle;\n",
       "    }\n",
       "\n",
       "    .dataframe tbody tr th {\n",
       "        vertical-align: top;\n",
       "    }\n",
       "\n",
       "    .dataframe thead th {\n",
       "        text-align: right;\n",
       "    }\n",
       "</style>\n",
       "<table border=\"1\" class=\"dataframe\">\n",
       "  <thead>\n",
       "    <tr style=\"text-align: right;\">\n",
       "      <th></th>\n",
       "      <th>year</th>\n",
       "      <th>price</th>\n",
       "      <th>mileage</th>\n",
       "      <th>tax</th>\n",
       "      <th>mpg</th>\n",
       "      <th>engineSize</th>\n",
       "    </tr>\n",
       "  </thead>\n",
       "  <tbody>\n",
       "    <tr>\n",
       "      <th>count</th>\n",
       "      <td>12987.000000</td>\n",
       "      <td>12987.000000</td>\n",
       "      <td>12987.000000</td>\n",
       "      <td>12987.000000</td>\n",
       "      <td>12987.000000</td>\n",
       "      <td>12987.000000</td>\n",
       "    </tr>\n",
       "    <tr>\n",
       "      <th>mean</th>\n",
       "      <td>2017.285516</td>\n",
       "      <td>24074.855779</td>\n",
       "      <td>22133.367367</td>\n",
       "      <td>129.676215</td>\n",
       "      <td>55.438392</td>\n",
       "      <td>2.051059</td>\n",
       "    </tr>\n",
       "    <tr>\n",
       "      <th>std</th>\n",
       "      <td>2.189633</td>\n",
       "      <td>9866.601115</td>\n",
       "      <td>21197.472376</td>\n",
       "      <td>65.167429</td>\n",
       "      <td>15.025902</td>\n",
       "      <td>0.532313</td>\n",
       "    </tr>\n",
       "    <tr>\n",
       "      <th>min</th>\n",
       "      <td>1997.000000</td>\n",
       "      <td>650.000000</td>\n",
       "      <td>1.000000</td>\n",
       "      <td>0.000000</td>\n",
       "      <td>1.100000</td>\n",
       "      <td>0.000000</td>\n",
       "    </tr>\n",
       "    <tr>\n",
       "      <th>25%</th>\n",
       "      <td>2016.000000</td>\n",
       "      <td>17355.000000</td>\n",
       "      <td>6320.000000</td>\n",
       "      <td>125.000000</td>\n",
       "      <td>45.600000</td>\n",
       "      <td>1.700000</td>\n",
       "    </tr>\n",
       "    <tr>\n",
       "      <th>50%</th>\n",
       "      <td>2018.000000</td>\n",
       "      <td>22299.000000</td>\n",
       "      <td>15371.000000</td>\n",
       "      <td>145.000000</td>\n",
       "      <td>56.500000</td>\n",
       "      <td>2.000000</td>\n",
       "    </tr>\n",
       "    <tr>\n",
       "      <th>75%</th>\n",
       "      <td>2019.000000</td>\n",
       "      <td>28706.000000</td>\n",
       "      <td>31986.500000</td>\n",
       "      <td>145.000000</td>\n",
       "      <td>64.200000</td>\n",
       "      <td>2.100000</td>\n",
       "    </tr>\n",
       "    <tr>\n",
       "      <th>max</th>\n",
       "      <td>2020.000000</td>\n",
       "      <td>65990.000000</td>\n",
       "      <td>259000.000000</td>\n",
       "      <td>580.000000</td>\n",
       "      <td>217.300000</td>\n",
       "      <td>6.200000</td>\n",
       "    </tr>\n",
       "  </tbody>\n",
       "</table>\n",
       "</div>"
      ],
      "text/plain": [
       "               year         price        mileage           tax           mpg  \\\n",
       "count  12987.000000  12987.000000   12987.000000  12987.000000  12987.000000   \n",
       "mean    2017.285516  24074.855779   22133.367367    129.676215     55.438392   \n",
       "std        2.189633   9866.601115   21197.472376     65.167429     15.025902   \n",
       "min     1997.000000    650.000000       1.000000      0.000000      1.100000   \n",
       "25%     2016.000000  17355.000000    6320.000000    125.000000     45.600000   \n",
       "50%     2018.000000  22299.000000   15371.000000    145.000000     56.500000   \n",
       "75%     2019.000000  28706.000000   31986.500000    145.000000     64.200000   \n",
       "max     2020.000000  65990.000000  259000.000000    580.000000    217.300000   \n",
       "\n",
       "         engineSize  \n",
       "count  12987.000000  \n",
       "mean       2.051059  \n",
       "std        0.532313  \n",
       "min        0.000000  \n",
       "25%        1.700000  \n",
       "50%        2.000000  \n",
       "75%        2.100000  \n",
       "max        6.200000  "
      ]
     },
     "execution_count": 47,
     "metadata": {},
     "output_type": "execute_result"
    }
   ],
   "source": [
    "df.describe()"
   ]
  },
  {
   "cell_type": "code",
   "execution_count": 48,
   "id": "c541bf75",
   "metadata": {},
   "outputs": [
    {
     "data": {
      "text/plain": [
       "[<matplotlib.lines.Line2D at 0x126de524070>]"
      ]
     },
     "execution_count": 48,
     "metadata": {},
     "output_type": "execute_result"
    },
    {
     "data": {
      "image/png": "[encoded data removed]",
      "text/plain": [
       "<Figure size 432x288 with 1 Axes>"
      ]
     },
     "metadata": {
      "needs_background": "light"
     },
     "output_type": "display_data"
    }
   ],
   "source": [
    "plt.scatter(y_test,y_pred)\n",
    "plt.plot(y_test,y_test,\"g-*\")"
   ]
  },
  {
   "cell_type": "code",
   "execution_count": 52,
   "id": "641c0fa4",
   "metadata": {},
   "outputs": [
    {
     "data": {
      "text/plain": [
       "year           2020.0\n",
       "price         65980.0\n",
       "mileage        3999.0\n",
       "tax             145.0\n",
       "mpg              28.0\n",
       "engineSize        4.0\n",
       "Name: 3191, dtype: float64"
      ]
     },
     "execution_count": 52,
     "metadata": {},
     "output_type": "execute_result"
    }
   ],
   "source": [
    "df.iloc[2]"
   ]
  },
  {
   "cell_type": "code",
   "execution_count": 56,
   "id": "0d3a41ba",
   "metadata": {},
   "outputs": [],
   "source": [
    "NewCar = df.drop(\"price\", axis = 1 ).iloc[2] "
   ]
  },
  {
   "cell_type": "code",
   "execution_count": 57,
   "id": "a232b987",
   "metadata": {},
   "outputs": [
    {
     "data": {
      "text/plain": [
       "year          2020.0\n",
       "mileage       3999.0\n",
       "tax            145.0\n",
       "mpg             28.0\n",
       "engineSize       4.0\n",
       "Name: 3191, dtype: float64"
      ]
     },
     "execution_count": 57,
     "metadata": {},
     "output_type": "execute_result"
    }
   ],
   "source": [
    "NewCar"
   ]
  },
  {
   "cell_type": "code",
   "execution_count": 59,
   "id": "b94718da",
   "metadata": {},
   "outputs": [],
   "source": [
    "NewCar = scaler.transform(NewCar.values.reshape(-1,5))"
   ]
  },
  {
   "cell_type": "code",
   "execution_count": 61,
   "id": "98dce8e5",
   "metadata": {},
   "outputs": [
    {
     "data": {
      "text/plain": [
       "array([[62277.44]], dtype=float32)"
      ]
     },
     "execution_count": 61,
     "metadata": {},
     "output_type": "execute_result"
    }
   ],
   "source": [
    "model.predict(NewCar)"
   ]
  },
  {
   "cell_type": "code",
   "execution_count": null,
   "id": "ccdbedeb",
   "metadata": {},
   "outputs": [],
   "source": []
  }
 ],
 "metadata": {
  "hide_input": false,
  "kernelspec": {
   "display_name": "Python 3",
   "language": "python",
   "name": "python3"
  },
  "language_info": {
   "codemirror_mode": {
    "name": "ipython",
    "version": 3
   },
   "file_extension": ".py",
   "mimetype": "text/x-python",
   "name": "python",
   "nbconvert_exporter": "python",
   "pygments_lexer": "ipython3",
   "version": "3.8.8"
  }
 },
 "nbformat": 4,
 "nbformat_minor": 5
}
