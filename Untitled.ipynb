{
 "cells": [
  {
   "cell_type": "code",
   "execution_count": 21,
   "id": "d5fa8093",
   "metadata": {},
   "outputs": [
    {
     "name": "stdout",
     "output_type": "stream",
     "text": [
      "Bir sayı giriniz:123\n",
      "Sonuç: 1\n",
      "Sonuç: 2\n",
      "Sonuç: 6\n"
     ]
    }
   ],
   "source": [
    "sayi=input(\"Bir sayı giriniz:\") \n",
    "carpim=1\n",
    "for rakam in str(sayi):\n",
    "    if int(rakam)!=0: \n",
    "        carpim*=int(rakam)\n",
    "        print(\"Sonuç:\",carpim)"
   ]
  },
  {
   "cell_type": "code",
   "execution_count": null,
   "id": "82f03d31",
   "metadata": {},
   "outputs": [],
   "source": [
    "import"
   ]
  }
 ],
 "metadata": {
  "hide_input": false,
  "kernelspec": {
   "display_name": "Python 3",
   "language": "python",
   "name": "python3"
  },
  "language_info": {
   "codemirror_mode": {
    "name": "ipython",
    "version": 3
   },
   "file_extension": ".py",
   "mimetype": "text/x-python",
   "name": "python",
   "nbconvert_exporter": "python",
   "pygments_lexer": "ipython3",
   "version": "3.8.8"
  }
 },
 "nbformat": 4,
 "nbformat_minor": 5
}
